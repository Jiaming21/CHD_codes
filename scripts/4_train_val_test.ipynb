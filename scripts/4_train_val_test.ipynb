{
 "cells": [
  {
   "cell_type": "code",
   "execution_count": 22,
   "id": "af0c1763",
   "metadata": {},
   "outputs": [],
   "source": [
    "import pandas as pd\n",
    "import numpy as np"
   ]
  },
  {
   "cell_type": "code",
   "execution_count": 23,
   "id": "51dc16e5",
   "metadata": {},
   "outputs": [],
   "source": [
    "neg = pd.read_csv('/Users/jiaming/Desktop/Lab2/datas/neg.csv')\n",
    "pos = pd.read_csv('/Users/jiaming/Desktop/Lab2/datas/pos.csv')"
   ]
  },
  {
   "cell_type": "code",
   "execution_count": 24,
   "id": "d29cd41a",
   "metadata": {},
   "outputs": [],
   "source": [
    "import torch\n",
    "from torch.utils.data import TensorDataset, DataLoader, random_split"
   ]
  },
  {
   "cell_type": "code",
   "execution_count": 25,
   "id": "76683aaf",
   "metadata": {},
   "outputs": [],
   "source": [
    "datas = np.concatenate((pos, neg), axis = 0)\n",
    "datas = np.expand_dims(datas, axis = -2)\n",
    "labels = np.concatenate(([1] * pos.shape[0], [0] * neg.shape[0]), axis = 0)\n",
    "labels = np.expand_dims(labels, -1)\n",
    "datas_tensor = torch.tensor(datas, dtype=torch.float32)\n",
    "labels_tensor = torch.tensor(labels, dtype=torch.float32)\n",
    "dataset = TensorDataset(datas_tensor, labels_tensor)\n",
    "train_size = int(0.8 * len(dataset))\n",
    "train_size_1 = int(0.8 * train_size)\n",
    "val_size = train_size - train_size_1\n",
    "train_size = train_size_1\n",
    "test_size = len(dataset) - train_size - val_size\n",
    "train_dataset, val_dataset, test_dataset = random_split(dataset, [train_size, val_size, test_size])"
   ]
  },
  {
   "cell_type": "code",
   "execution_count": 26,
   "id": "88948ad8",
   "metadata": {},
   "outputs": [],
   "source": [
    "# save datas\n",
    "torch.save({\n",
    "    'train_dataset': train_dataset,  \n",
    "    'val_dataset': val_dataset,\n",
    "    'test_dataset': test_dataset\n",
    "}, '/Users/jiaming/Desktop/Lab2/datas/saved_datasets.pth')"
   ]
  },
  {
   "cell_type": "code",
   "execution_count": null,
   "id": "012e8a92",
   "metadata": {},
   "outputs": [],
   "source": []
  },
  {
   "cell_type": "code",
   "execution_count": null,
   "id": "1f5dbfa4",
   "metadata": {},
   "outputs": [],
   "source": []
  }
 ],
 "metadata": {
  "kernelspec": {
   "display_name": "Python 3 (ipykernel)",
   "language": "python",
   "name": "python3"
  },
  "language_info": {
   "codemirror_mode": {
    "name": "ipython",
    "version": 3
   },
   "file_extension": ".py",
   "mimetype": "text/x-python",
   "name": "python",
   "nbconvert_exporter": "python",
   "pygments_lexer": "ipython3",
   "version": "3.8.18"
  }
 },
 "nbformat": 4,
 "nbformat_minor": 5
}
