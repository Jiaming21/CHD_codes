{
 "cells": [
  {
   "cell_type": "code",
   "execution_count": 22,
   "id": "090fb7eb",
   "metadata": {},
   "outputs": [],
   "source": [
    "import pandas as pd\n",
    "import numpy as np\n",
    "import torch\n",
    "import torch.nn as nn\n",
    "import torch.optim as optim\n",
    "import torch.optim.lr_scheduler as lr_scheduler\n",
    "import matplotlib.pyplot as plt\n",
    "import math\n",
    "from sklearn.metrics import roc_curve, auc, roc_auc_score, confusion_matrix, accuracy_score, f1_score, matthews_corrcoef\n",
    "from sklearn.model_selection import KFold, train_test_split\n",
    "from torch.utils.data import TensorDataset, DataLoader, random_split, ConcatDataset, Subset"
   ]
  },
  {
   "cell_type": "code",
   "execution_count": 23,
   "id": "3d3daefb",
   "metadata": {},
   "outputs": [],
   "source": [
    "loaded_datasets_info = torch.load('/Users/jiaming/Desktop/Lab2/datas/saved_datasets_scaled.pth')\n",
    "loaded_train_dataset = loaded_datasets_info['train_dataset']\n",
    "loaded_val_dataset = loaded_datasets_info['val_dataset']\n",
    "loaded_test_dataset = loaded_datasets_info['test_dataset']"
   ]
  },
  {
   "cell_type": "code",
   "execution_count": 24,
   "id": "dc32a157",
   "metadata": {},
   "outputs": [],
   "source": [
    "batch_size = 128 \n",
    "loaded_train_loader = DataLoader(loaded_train_dataset, batch_size = batch_size) \n",
    "loaded_val_loader = DataLoader(loaded_val_dataset, batch_size = batch_size) \n",
    "loaded_test_loader = DataLoader(loaded_test_dataset, batch_size = batch_size, shuffle=False) "
   ]
  },
  {
   "cell_type": "code",
   "execution_count": 25,
   "id": "20774580",
   "metadata": {},
   "outputs": [],
   "source": [
    "def metrics_output(preds,labels):\n",
    "    true_labels = np.array(labels)\n",
    "    predicted_probs = np.array(preds)\n",
    "    binary_predictions = (predicted_probs >= 0.5).astype(int)\n",
    "    auc = roc_auc_score(true_labels, predicted_probs)\n",
    "    conf_matrix = confusion_matrix(true_labels, binary_predictions)\n",
    "    tn, fp, fn, tp = conf_matrix.ravel()\n",
    "    sensitivity = tp / (tp + fn)\n",
    "    specificity = tn / (tn + fp)\n",
    "    accuracy = accuracy_score(true_labels, binary_predictions)\n",
    "    f1 = f1_score(true_labels, binary_predictions)\n",
    "    mcc = matthews_corrcoef(true_labels, binary_predictions)  \n",
    "    return (auc, sensitivity, specificity, accuracy, f1, mcc)"
   ]
  },
  {
   "cell_type": "code",
   "execution_count": 26,
   "id": "21fca772",
   "metadata": {},
   "outputs": [],
   "source": [
    "class Net_conv(nn.Module):\n",
    "    def __init__(self, input_length):\n",
    "        super(Net_conv, self).__init__()\n",
    "        self.conv1 = nn.Conv1d(1, 32, kernel_size=3, stride=1, padding=1)\n",
    "        self.dropout1 = nn.Dropout(0.1)  \n",
    "        self.conv2 = nn.Conv1d(32, 64, kernel_size=3, stride=1, padding=1)\n",
    "        self.dropout2 = nn.Dropout(0.1) \n",
    "        flattened_size = 64 * input_length\n",
    "        self.fc1 = nn.Linear(flattened_size, 64)\n",
    "        self.dropout3 = nn.Dropout(0.1)  \n",
    "        self.fc2 = nn.Linear(64, 32)\n",
    "        self.fc3 = nn.Linear(32, 1)\n",
    "        self.relu = nn.ReLU()\n",
    "        self.sigmoid = nn.Sigmoid()\n",
    "\n",
    "    def forward(self, x):\n",
    "        x = self.relu(self.conv1(x))\n",
    "        x = self.dropout1(x)  \n",
    "        x = self.relu(self.conv2(x))\n",
    "        x = self.dropout2(x)  \n",
    "        x = x.view(x.size(0), -1)\n",
    "        x = self.relu(self.fc1(x)) \n",
    "        x = self.dropout3(x)  \n",
    "        x = self.relu(self.fc2(x))\n",
    "        x = self.sigmoid(self.fc3(x))\n",
    "        return x"
   ]
  },
  {
   "cell_type": "code",
   "execution_count": 27,
   "id": "bc059124",
   "metadata": {},
   "outputs": [],
   "source": [
    "model = Net_conv(input_length=24) # revise\n",
    "criterion = nn.BCELoss()  \n",
    "optimizer = optim.Adam(model.parameters(), lr=0.0001)\n",
    "num_epochs = 10"
   ]
  },
  {
   "cell_type": "code",
   "execution_count": 28,
   "id": "aef7d225",
   "metadata": {},
   "outputs": [],
   "source": [
    "kf = KFold(n_splits=5, shuffle=True, random_state=42)\n",
    "train_dataset = ConcatDataset([loaded_train_dataset, loaded_val_dataset])\n",
    "train_loader = DataLoader(train_dataset, batch_size=batch_size)\n",
    "\n",
    "for fold_idx, (train_index, val_index) in enumerate(kf.split(train_loader.dataset)):\n",
    "    predicted_probabilities = []\n",
    "    true_labels = []\n",
    "    train_loader_fold = DataLoader(Subset(train_loader.dataset, train_index), batch_size=batch_size)\n",
    "    val_loader_fold = DataLoader(Subset(train_loader.dataset, val_index), batch_size=batch_size)\n",
    "    model = Net_conv(input_length=24) # revise\n",
    "    \n",
    "    for epoch in range(num_epochs):\n",
    "        model = model.train()\n",
    "        for batch_idx, (features, targets) in enumerate(train_loader_fold):     \n",
    "            optimizer.zero_grad()\n",
    "            outputs = model(features)\n",
    "            loss = criterion(outputs, targets) \n",
    "            loss.backward()\n",
    "            optimizer.step()\n",
    "\n",
    "    with torch.set_grad_enabled(False):\n",
    "        for batch_idx, (features, targets) in enumerate(val_loader_fold):\n",
    "            logits = model(features.float())\n",
    "            probabilities = logits\n",
    "            predicted_probabilities.extend(probabilities.tolist())\n",
    "            true_labels.extend(targets.tolist())\n",
    "    #每一个都储存（没有必要，只要最后一次的就好）\n",
    "    #torch.save(model.state_dict(), f'/Users/jiaming/Desktop/Lab2/datas/ROC/models/CNN/CNN_{fold_idx}.pth')\n",
    "    #np.save(f'/Users/jiaming/Desktop/Lab2/datas/ROC/models/CNN/cnn_y_val_pred_{fold_idx}.npy', predicted_probabilities)\n",
    "    #np.save(f'/Users/jiaming/Desktop/Lab2/datas/ROC/models/CNN/cnn_y_val_{fold_idx}.npy', true_labels)"
   ]
  },
  {
   "cell_type": "code",
   "execution_count": 29,
   "id": "6bf77039",
   "metadata": {},
   "outputs": [],
   "source": [
    "# 只储存了最后一次\n",
    "torch.save(model.state_dict(), '/Users/jiaming/Desktop/Lab2/datas/ROC/models/CNN/CNN.pth')"
   ]
  },
  {
   "cell_type": "code",
   "execution_count": 30,
   "id": "3a8820a1",
   "metadata": {},
   "outputs": [
    {
     "name": "stdout",
     "output_type": "stream",
     "text": [
      "0.5632086167800453 1.0 0.0 0.47572815533980584 0.6447368421052632 0.0\n"
     ]
    }
   ],
   "source": [
    "roc_auc, metrics_sn, metrics_sp, metrics_ACC, metrics_F1, metrics_MCC = metrics_output(predicted_probabilities, true_labels)\n",
    "print(roc_auc, metrics_sn, metrics_sp, metrics_ACC, metrics_F1, metrics_MCC)"
   ]
  },
  {
   "cell_type": "code",
   "execution_count": 31,
   "id": "31212e67",
   "metadata": {},
   "outputs": [],
   "source": [
    "# 只储存了最后一次\n",
    "np.save('/Users/jiaming/Desktop/Lab2/datas/ROC/val/CNN/cnn_y_val_pred.npy', predicted_probabilities)\n",
    "np.save('/Users/jiaming/Desktop/Lab2/datas/ROC/val/CNN/cnn_y_val.npy', true_labels)"
   ]
  },
  {
   "cell_type": "code",
   "execution_count": 32,
   "id": "644c1fb9",
   "metadata": {},
   "outputs": [],
   "source": [
    "predicted_probabilities = []  \n",
    "true_labels = []  \n",
    "with torch.set_grad_enabled(False): \n",
    "    for batch_idx, (features, targets) in enumerate(loaded_test_loader):\n",
    "        logits = model(features.float())\n",
    "        probabilities = logits\n",
    "        predicted_probabilities.extend(probabilities.tolist()) \n",
    "        true_labels.extend(targets.tolist())"
   ]
  },
  {
   "cell_type": "code",
   "execution_count": 33,
   "id": "f4576d49",
   "metadata": {},
   "outputs": [
    {
     "name": "stdout",
     "output_type": "stream",
     "text": [
      "0.49500962000962007 1.0 0.0 0.5116279069767442 0.676923076923077 0.0\n"
     ]
    }
   ],
   "source": [
    "roc_auc, metrics_sn, metrics_sp, metrics_ACC, metrics_F1, metrics_MCC = metrics_output(predicted_probabilities,true_labels)\n",
    "print(roc_auc, metrics_sn, metrics_sp, metrics_ACC, metrics_F1, metrics_MCC)"
   ]
  },
  {
   "cell_type": "code",
   "execution_count": 34,
   "id": "b3d162e8",
   "metadata": {},
   "outputs": [],
   "source": [
    "np.save('/Users/jiaming/Desktop/Lab2/datas/ROC/test/CNN/cnn_y_test_pred.npy', predicted_probabilities)\n",
    "np.save('/Users/jiaming/Desktop/Lab2/datas/ROC/test/CNN/cnn_y_test.npy', true_labels)"
   ]
  },
  {
   "cell_type": "code",
   "execution_count": null,
   "id": "9e5a4567",
   "metadata": {},
   "outputs": [],
   "source": []
  },
  {
   "cell_type": "code",
   "execution_count": null,
   "id": "46533dc5",
   "metadata": {},
   "outputs": [],
   "source": []
  }
 ],
 "metadata": {
  "kernelspec": {
   "display_name": "Python 3 (ipykernel)",
   "language": "python",
   "name": "python3"
  },
  "language_info": {
   "codemirror_mode": {
    "name": "ipython",
    "version": 3
   },
   "file_extension": ".py",
   "mimetype": "text/x-python",
   "name": "python",
   "nbconvert_exporter": "python",
   "pygments_lexer": "ipython3",
   "version": "3.8.18"
  }
 },
 "nbformat": 4,
 "nbformat_minor": 5
}
