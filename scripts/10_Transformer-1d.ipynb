{
 "cells": [
  {
   "cell_type": "code",
   "execution_count": 49,
   "id": "f7843cfa",
   "metadata": {},
   "outputs": [],
   "source": [
    "import pandas as pd\n",
    "import numpy as np\n",
    "import torch\n",
    "import torch.nn as nn\n",
    "import torch.optim as optim\n",
    "import torch.optim.lr_scheduler as lr_scheduler\n",
    "import matplotlib.pyplot as plt\n",
    "import math\n",
    "from sklearn.metrics import roc_curve, auc, roc_auc_score, confusion_matrix, accuracy_score, f1_score, matthews_corrcoef\n",
    "from sklearn.model_selection import KFold, train_test_split\n",
    "from torch.utils.data import TensorDataset, DataLoader, random_split, ConcatDataset, Subset, Dataset"
   ]
  },
  {
   "cell_type": "code",
   "execution_count": null,
   "id": "b51bd48b",
   "metadata": {},
   "outputs": [],
   "source": []
  },
  {
   "cell_type": "code",
   "execution_count": 50,
   "id": "b4a1bb08",
   "metadata": {},
   "outputs": [],
   "source": [
    "def metrics_output(preds,labels):\n",
    "    true_labels = np.array(labels)\n",
    "    predicted_probs = np.array(preds)\n",
    "    binary_predictions = (predicted_probs >= 0.5).astype(int)\n",
    "    auc = roc_auc_score(true_labels, predicted_probs)\n",
    "    conf_matrix = confusion_matrix(true_labels, binary_predictions)\n",
    "    tn, fp, fn, tp = conf_matrix.ravel()\n",
    "    sensitivity = tp / (tp + fn)\n",
    "    specificity = tn / (tn + fp)\n",
    "    accuracy = accuracy_score(true_labels, binary_predictions)\n",
    "    f1 = f1_score(true_labels, binary_predictions)\n",
    "    mcc = matthews_corrcoef(true_labels, binary_predictions)  \n",
    "    return (auc, sensitivity, specificity, accuracy, f1, mcc)"
   ]
  },
  {
   "cell_type": "code",
   "execution_count": null,
   "id": "be0cafdb",
   "metadata": {},
   "outputs": [],
   "source": []
  },
  {
   "cell_type": "code",
   "execution_count": 51,
   "id": "9a7da6ae",
   "metadata": {},
   "outputs": [
    {
     "name": "stderr",
     "output_type": "stream",
     "text": [
      "/Users/jiaming/Desktop/yes/envs/py38_cpu/lib/python3.8/site-packages/torch/nn/modules/transformer.py:282: UserWarning: enable_nested_tensor is True, but self.use_nested_tensor is False because encoder_layer.self_attn.batch_first was not True(use batch_first for better inference performance)\n",
      "  warnings.warn(f\"enable_nested_tensor is True, but self.use_nested_tensor is False because {why_not_sparsity_fast_path}\")\n"
     ]
    }
   ],
   "source": [
    "class TransformerEncoderClassification(nn.Module):\n",
    "    def __init__(self):\n",
    "        super(TransformerEncoderClassification, self).__init__()\n",
    "        self.transformer_encoder = nn.TransformerEncoder(\n",
    "            nn.TransformerEncoderLayer(d_model=8, nhead=4), #8 确定，4定为能使d_model divisible by nhead \n",
    "            num_layers= 3,\n",
    "        ) \n",
    "        self.fc = nn.Linear(24, 2)# 4 batch, 24 samples every batch\n",
    "\n",
    "    def forward(self, x):\n",
    "        x = x.permute(1, 0, 2)  \n",
    "        x = self.transformer_encoder(x) \n",
    "        x = x.permute(1, 0, 2) \n",
    "        x = x.flatten(1) \n",
    "        x = self.fc(x)\n",
    "        return x\n",
    "    \n",
    "model = TransformerEncoderClassification() \n",
    "criterion = nn.CrossEntropyLoss()\n",
    "optimizer = optim.SGD(model.parameters(), lr=0.005)"
   ]
  },
  {
   "cell_type": "code",
   "execution_count": null,
   "id": "0b084342",
   "metadata": {},
   "outputs": [],
   "source": []
  },
  {
   "cell_type": "code",
   "execution_count": 52,
   "id": "409497a4",
   "metadata": {},
   "outputs": [],
   "source": [
    "loaded_datasets_info = torch.load('/Users/jiaming/Desktop/Lab2/datas/saved_datasets_scaled.pth')\n",
    "loaded_train_dataset = loaded_datasets_info['train_dataset'] # all data, can use batch to split into batches\n",
    "loaded_val_dataset = loaded_datasets_info['val_dataset']\n",
    "loaded_test_dataset = loaded_datasets_info['test_dataset']"
   ]
  },
  {
   "cell_type": "code",
   "execution_count": 53,
   "id": "3c195aa9",
   "metadata": {},
   "outputs": [
    {
     "name": "stdout",
     "output_type": "stream",
     "text": [
      "torch.Size([824, 3, 8])\n",
      "torch.Size([824])\n",
      "torch.Size([206, 3, 8])\n",
      "torch.Size([206])\n",
      "torch.Size([258, 3, 8])\n",
      "torch.Size([258])\n"
     ]
    }
   ],
   "source": [
    "# split x and y from loader\n",
    "X_train = []\n",
    "y_train = []\n",
    "for x, y in loaded_train_dataset:\n",
    "    X_train.append(x.reshape(-1, 3, 8))\n",
    "    y_train.append(y)\n",
    "    \n",
    "X_train = torch.cat(X_train, dim=0)\n",
    "y_train = torch.cat(y_train, dim=0) \n",
    "\n",
    "print(X_train.shape) # 824 samples\n",
    "print(y_train.shape)\n",
    "\n",
    "############################################\n",
    "\n",
    "X_val = []\n",
    "y_val = []\n",
    "for x, y in loaded_val_dataset:\n",
    "    X_val.append(x.reshape(-1, 3, 8))\n",
    "    y_val.append(y)\n",
    "    \n",
    "X_val = torch.cat(X_val, dim=0)\n",
    "y_val = torch.cat(y_val, dim=0) \n",
    "\n",
    "print(X_val.shape) # 206 samples\n",
    "print(y_val.shape)\n",
    "\n",
    "############################################\n",
    "\n",
    "X_test = []\n",
    "y_test = []\n",
    "for x, y in loaded_test_dataset:\n",
    "    X_test.append(x.reshape(-1, 3, 8))\n",
    "    y_test.append(y)\n",
    "\n",
    "X_test = torch.cat(X_test, dim=0)\n",
    "y_test = torch.cat(y_test, dim=0) \n",
    "\n",
    "print(X_test.shape) # 258 samples\n",
    "print(y_test.shape)\n",
    "\n"
   ]
  },
  {
   "cell_type": "code",
   "execution_count": null,
   "id": "f3a0ae7d",
   "metadata": {},
   "outputs": [],
   "source": []
  },
  {
   "cell_type": "code",
   "execution_count": 54,
   "id": "ec2eb5a7",
   "metadata": {},
   "outputs": [],
   "source": [
    "# package up data and label\n",
    "class MyDataSet(Dataset):\n",
    "    def __init__(self, data, label):\n",
    "        self.data = data\n",
    "        self.label = label\n",
    "        self.length = label.shape[0]\n",
    "        \n",
    "    def __getitem__(self, index):\n",
    "        return self.data[index], self.label[index]\n",
    "    def __len__(self):\n",
    "        return self.length"
   ]
  },
  {
   "cell_type": "code",
   "execution_count": 55,
   "id": "f4a57637",
   "metadata": {},
   "outputs": [],
   "source": [
    "train_dataset = MyDataSet(X_train, y_train) \n",
    "test_dataset = MyDataSet(X_test, y_test) \n",
    "val_dataset = MyDataSet(X_val, y_val) "
   ]
  },
  {
   "cell_type": "code",
   "execution_count": null,
   "id": "cd9c401b",
   "metadata": {},
   "outputs": [],
   "source": []
  },
  {
   "cell_type": "code",
   "execution_count": 56,
   "id": "a1d1da6d",
   "metadata": {},
   "outputs": [],
   "source": [
    "kf = KFold(n_splits=5, shuffle=True, random_state=42)\n",
    "train_dataset = ConcatDataset([train_dataset, val_dataset]) # 824(train)+206(val)=1030\n",
    "train_loader = DataLoader(train_dataset, batch_size=103) # 103样本每批，总用10批"
   ]
  },
  {
   "cell_type": "code",
   "execution_count": null,
   "id": "405aa397",
   "metadata": {},
   "outputs": [],
   "source": []
  },
  {
   "cell_type": "code",
   "execution_count": 57,
   "id": "53c9ad45",
   "metadata": {},
   "outputs": [],
   "source": [
    "for fold_idx, (train_index, val_index) in enumerate(kf.split(train_dataset)):\n",
    "    predicted_probabilities = []\n",
    "    true_labels = []\n",
    "    predicted_labels = []  \n",
    "    \n",
    "    train_loader_fold = DataLoader(Subset(train_dataset, train_index), batch_size=206) #824 #206/batch 4batch\n",
    "    val_loader_fold = DataLoader(Subset(train_dataset, val_index), batch_size=103) #206 103/batch 2batch\n",
    "    \n",
    "    for epoch in range(15):    \n",
    "        model = TransformerEncoderClassification() \n",
    "        for batch_idx, (features, targets) in enumerate(train_loader_fold):     \n",
    "            optimizer.zero_grad()\n",
    "            outputs = model(features)\n",
    "            loss = criterion(outputs, targets.long()) \n",
    "            loss.backward()\n",
    "            optimizer.step()\n",
    "            \n",
    "        with torch.set_grad_enabled(False):\n",
    "            for batch_idx, (features, targets) in enumerate(val_loader_fold):\n",
    "                logits = model(features.float())\n",
    "                _, y_pred = torch.max(logits.data, dim=1) \n",
    "                predicted_labels.extend(y_pred.tolist()) \n",
    "                logits = torch.nn.functional.softmax(logits, dim = 1)#以后都指定一下为1, 否则会Warning, 隐式选择dim=1\n",
    "                predicted_probabilities.extend(logits[:,1].tolist()) \n",
    "                true_labels.extend(targets.tolist())\n",
    "        #每一个都储存（没有必要，只要最后一次的就好）\n",
    "        #torch.save(model.state_dict(), f'/Users/jiaming/Desktop/Lab2/datas/ROC/models/Transformer/transformer_{fold_idx}.pth')\n",
    "        #np.save(f'/Users/jiaming/Desktop/Lab2/datas/ROC/models/Transformer/transformer_y_val_pred_{fold_idx}.npy', predicted_probabilities)\n",
    "        #np.save(f'/Users/jiaming/Desktop/Lab2/datas/ROC/models/Transformer/transformer_y_val_{fold_idx}.npy', true_labels)"
   ]
  },
  {
   "cell_type": "code",
   "execution_count": 58,
   "id": "9445e74e",
   "metadata": {},
   "outputs": [],
   "source": [
    "# 只储存了最后一次\n",
    "torch.save(model.state_dict(), '/Users/jiaming/Desktop/Lab2/datas/ROC/models/Transformer/transformer.pth')"
   ]
  },
  {
   "cell_type": "code",
   "execution_count": 59,
   "id": "275d9b61",
   "metadata": {},
   "outputs": [
    {
     "name": "stdout",
     "output_type": "stream",
     "text": [
      "0.5132602670697909 0.46802721088435373 0.5512345679012346 0.5116504854368932 0.47694974003466206 0.019307539849644045\n"
     ]
    }
   ],
   "source": [
    "roc_auc, metrics_sn, metrics_sp, metrics_ACC, metrics_F1, metrics_MCC = metrics_output(predicted_probabilities,true_labels)\n",
    "print(roc_auc, metrics_sn, metrics_sp, metrics_ACC, metrics_F1, metrics_MCC)"
   ]
  },
  {
   "cell_type": "code",
   "execution_count": 60,
   "id": "01098edb",
   "metadata": {},
   "outputs": [],
   "source": [
    "# 只储存了最后一次\n",
    "np.save('/Users/jiaming/Desktop/Lab2/datas/ROC/val/Transformer/transformer_y_val_pred.npy', predicted_probabilities)\n",
    "np.save('/Users/jiaming/Desktop/Lab2/datas/ROC/val/Transformer/transformer_y_val.npy', true_labels)"
   ]
  },
  {
   "cell_type": "code",
   "execution_count": 61,
   "id": "3ea67c8e",
   "metadata": {},
   "outputs": [],
   "source": [
    "test_loader = DataLoader(test_dataset, batch_size=129) #258 129/批 2批 反正是测试，两次结束就好"
   ]
  },
  {
   "cell_type": "code",
   "execution_count": 62,
   "id": "4a5b2053",
   "metadata": {},
   "outputs": [],
   "source": [
    "predicted_labels = []  \n",
    "true_labels = [] \n",
    "predicted_probabilities = []\n",
    "with torch.set_grad_enabled(False): \n",
    "    for batch_idx, (features, targets) in enumerate(test_loader):\n",
    "        logits = model(features.float())\n",
    "        _, y_pred = torch.max(logits.data, dim=1)\n",
    "        predicted_labels.extend(y_pred.tolist()) \n",
    "        logits = torch.nn.functional.softmax(logits, dim = 1)\n",
    "        predicted_probabilities.extend(logits[:,1].tolist()) \n",
    "        true_labels.extend(targets.tolist())"
   ]
  },
  {
   "cell_type": "code",
   "execution_count": 63,
   "id": "e6900ba2",
   "metadata": {},
   "outputs": [
    {
     "name": "stdout",
     "output_type": "stream",
     "text": [
      "0.49789562289562295 0.6060606060606061 0.42063492063492064 0.5155038759689923 0.5614035087719299 0.02716253925766122\n"
     ]
    }
   ],
   "source": [
    "roc_auc, metrics_sn, metrics_sp, metrics_ACC, metrics_F1, metrics_MCC = metrics_output(predicted_probabilities,true_labels)\n",
    "print(roc_auc, metrics_sn, metrics_sp, metrics_ACC, metrics_F1, metrics_MCC)"
   ]
  },
  {
   "cell_type": "code",
   "execution_count": 64,
   "id": "99726f1d",
   "metadata": {},
   "outputs": [],
   "source": [
    "np.save('/Users/jiaming/Desktop/Lab2/datas/ROC/test/Transformer/transformer_y_test_pred.npy', predicted_probabilities)\n",
    "np.save('/Users/jiaming/Desktop/Lab2/datas/ROC/test/Transformer/transformer_y_test.npy', true_labels)"
   ]
  },
  {
   "cell_type": "code",
   "execution_count": null,
   "id": "31e7d9d1",
   "metadata": {},
   "outputs": [],
   "source": []
  },
  {
   "cell_type": "code",
   "execution_count": null,
   "id": "4d822acb",
   "metadata": {},
   "outputs": [],
   "source": []
  },
  {
   "cell_type": "code",
   "execution_count": null,
   "id": "39fbe37f",
   "metadata": {},
   "outputs": [],
   "source": []
  },
  {
   "cell_type": "code",
   "execution_count": null,
   "id": "4668153c",
   "metadata": {},
   "outputs": [],
   "source": []
  }
 ],
 "metadata": {
  "kernelspec": {
   "display_name": "Python 3 (ipykernel)",
   "language": "python",
   "name": "python3"
  },
  "language_info": {
   "codemirror_mode": {
    "name": "ipython",
    "version": 3
   },
   "file_extension": ".py",
   "mimetype": "text/x-python",
   "name": "python",
   "nbconvert_exporter": "python",
   "pygments_lexer": "ipython3",
   "version": "3.8.18"
  }
 },
 "nbformat": 4,
 "nbformat_minor": 5
}
