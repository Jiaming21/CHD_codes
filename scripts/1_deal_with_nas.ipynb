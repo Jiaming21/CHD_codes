{
 "cells": [
  {
   "cell_type": "code",
   "execution_count": 44,
   "id": "7ee242bc",
   "metadata": {},
   "outputs": [],
   "source": [
    "import pandas as pd\n",
    "import numpy as np"
   ]
  },
  {
   "cell_type": "code",
   "execution_count": 45,
   "id": "b45703e0",
   "metadata": {},
   "outputs": [],
   "source": [
    "df = pd.read_csv('/Users/jiaming/Desktop/Lab2/datas/framingham.csv')"
   ]
  },
  {
   "cell_type": "code",
   "execution_count": 46,
   "id": "c1d8a7e5",
   "metadata": {},
   "outputs": [
    {
     "data": {
      "text/plain": [
       "male                 0\n",
       "age                  0\n",
       "education          105\n",
       "currentSmoker        0\n",
       "cigsPerDay          29\n",
       "BPMeds              53\n",
       "prevalentStroke      0\n",
       "prevalentHyp         0\n",
       "diabetes             0\n",
       "totChol             50\n",
       "sysBP                0\n",
       "diaBP                0\n",
       "BMI                 19\n",
       "heartRate            1\n",
       "glucose            388\n",
       "TenYearCHD           0\n",
       "dtype: int64"
      ]
     },
     "execution_count": 46,
     "metadata": {},
     "output_type": "execute_result"
    }
   ],
   "source": [
    "# deal with NAs \n",
    "df.isnull().sum() # check which variable has NAs"
   ]
  },
  {
   "cell_type": "code",
   "execution_count": 47,
   "id": "58437597",
   "metadata": {},
   "outputs": [],
   "source": [
    "# fill NAs in the columns with column mean\n",
    "df.education = df.education.fillna(1)\n",
    "df.cigsPerDay =df.cigsPerDay.fillna(df.cigsPerDay.mean())\n",
    "df.BPMeds =df.BPMeds.fillna(0)\n",
    "df.totChol =df.totChol.fillna(df.totChol.mean())\n",
    "df.BMI =df.BMI.fillna(df.BMI.mean())\n",
    "df.heartRate =df.heartRate.fillna(df.heartRate.mean())\n",
    "df.glucose  =df.glucose.fillna(df.heartRate.mean())"
   ]
  },
  {
   "cell_type": "code",
   "execution_count": 48,
   "id": "f53e8329",
   "metadata": {},
   "outputs": [
    {
     "data": {
      "text/plain": [
       "male               0\n",
       "age                0\n",
       "education          0\n",
       "currentSmoker      0\n",
       "cigsPerDay         0\n",
       "BPMeds             0\n",
       "prevalentStroke    0\n",
       "prevalentHyp       0\n",
       "diabetes           0\n",
       "totChol            0\n",
       "sysBP              0\n",
       "diaBP              0\n",
       "BMI                0\n",
       "heartRate          0\n",
       "glucose            0\n",
       "TenYearCHD         0\n",
       "dtype: int64"
      ]
     },
     "execution_count": 48,
     "metadata": {},
     "output_type": "execute_result"
    }
   ],
   "source": [
    "# recheck whether there are still NAs\n",
    "df.isnull().sum()"
   ]
  },
  {
   "cell_type": "code",
   "execution_count": 49,
   "id": "51d7df06",
   "metadata": {},
   "outputs": [],
   "source": [
    "df.to_csv('/Users/jiaming/Desktop/Lab2/datas/framingham_without_nas.csv', index=False)"
   ]
  },
  {
   "cell_type": "code",
   "execution_count": null,
   "id": "fbc262d3",
   "metadata": {},
   "outputs": [],
   "source": []
  },
  {
   "cell_type": "code",
   "execution_count": null,
   "id": "cef3c664",
   "metadata": {},
   "outputs": [],
   "source": []
  },
  {
   "cell_type": "code",
   "execution_count": null,
   "id": "e30ceaf0",
   "metadata": {},
   "outputs": [],
   "source": []
  }
 ],
 "metadata": {
  "kernelspec": {
   "display_name": "Python 3 (ipykernel)",
   "language": "python",
   "name": "python3"
  },
  "language_info": {
   "codemirror_mode": {
    "name": "ipython",
    "version": 3
   },
   "file_extension": ".py",
   "mimetype": "text/x-python",
   "name": "python",
   "nbconvert_exporter": "python",
   "pygments_lexer": "ipython3",
   "version": "3.8.19"
  }
 },
 "nbformat": 4,
 "nbformat_minor": 5
}
