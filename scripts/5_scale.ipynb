{
 "cells": [
  {
   "cell_type": "code",
   "execution_count": 58,
   "id": "a79aa176",
   "metadata": {},
   "outputs": [],
   "source": [
    "import torch\n",
    "from torch.utils.data import TensorDataset, DataLoader, random_split\n",
    "from sklearn.preprocessing import StandardScaler\n",
    "import numpy as np"
   ]
  },
  {
   "cell_type": "code",
   "execution_count": 59,
   "id": "96bfa0f8",
   "metadata": {},
   "outputs": [],
   "source": [
    "loaded_datasets_info = torch.load('/Users/jiaming/Desktop/Lab2/datas/saved_datasets.pth')\n",
    "loaded_train_dataset = loaded_datasets_info['train_dataset']\n",
    "loaded_val_dataset = loaded_datasets_info['val_dataset']\n",
    "loaded_test_dataset = loaded_datasets_info['test_dataset']"
   ]
  },
  {
   "cell_type": "code",
   "execution_count": 60,
   "id": "3f1a60c9",
   "metadata": {},
   "outputs": [],
   "source": [
    "from imblearn.over_sampling import SMOTE\n",
    "\n",
    "def scale_datasets(train_dataset, val_dataset, test_dataset):\n",
    "    scaler = StandardScaler()\n",
    "\n",
    "    # Helper function to extract tensors from Subset\n",
    "    def get_features_labels(dataset):\n",
    "        loader = DataLoader(dataset, batch_size=len(dataset))\n",
    "        features, labels = next(iter(loader))\n",
    "        return features, labels\n",
    "\n",
    "    # Extract and reshape data for scaling\n",
    "    train_features, train_labels = get_features_labels(train_dataset)\n",
    "    val_features, val_labels = get_features_labels(val_dataset)\n",
    "    test_features, test_labels = get_features_labels(test_dataset)\n",
    "\n",
    "    # Flatten the tensors for scaling\n",
    "    train_features_flat = train_features.reshape(train_features.size(0), -1).numpy()\n",
    "    val_features_flat = val_features.reshape(val_features.size(0), -1).numpy()\n",
    "    test_features_flat = test_features.reshape(test_features.size(0), -1).numpy()\n",
    "\n",
    "    # Fit on training data\n",
    "    scaler.fit(train_features_flat)\n",
    "\n",
    "    # Transform all datasets\n",
    "    train_features_scaled = scaler.transform(train_features_flat)\n",
    "    val_features_scaled = scaler.transform(val_features_flat)\n",
    "    test_features_scaled = scaler.transform(test_features_flat)\n",
    "\n",
    "    # Convert back to tensors\n",
    "    train_features_scaled = torch.tensor(train_features_scaled, dtype=torch.float32).view_as(train_features)\n",
    "    val_features_scaled = torch.tensor(val_features_scaled, dtype=torch.float32).view_as(val_features)\n",
    "    test_features_scaled = torch.tensor(test_features_scaled, dtype=torch.float32).view_as(test_features)\n",
    "\n",
    "    # Create new TensorDatasets\n",
    "    train_dataset_scaled = TensorDataset(train_features_scaled, train_labels)\n",
    "    val_dataset_scaled = TensorDataset(val_features_scaled, val_labels)\n",
    "    test_dataset_scaled = TensorDataset(test_features_scaled, test_labels)\n",
    "\n",
    "    return train_dataset_scaled, val_dataset_scaled, test_dataset_scaled\n",
    "\n"
   ]
  },
  {
   "cell_type": "code",
   "execution_count": 61,
   "id": "41d8df2c",
   "metadata": {},
   "outputs": [],
   "source": [
    "# Scale your datasets\n",
    "loaded_train_dataset_scaled, loaded_val_dataset_scaled, loaded_test_dataset_scaled = scale_datasets(loaded_train_dataset, loaded_val_dataset, loaded_test_dataset)"
   ]
  },
  {
   "cell_type": "code",
   "execution_count": 62,
   "id": "8b57e68b",
   "metadata": {},
   "outputs": [],
   "source": [
    "# save datas\n",
    "torch.save({\n",
    "    'train_dataset': loaded_train_dataset_scaled,  \n",
    "    'val_dataset': loaded_val_dataset_scaled,\n",
    "    'test_dataset': loaded_test_dataset_scaled\n",
    "}, '/Users/jiaming/Desktop/Lab2/datas/saved_datasets_scaled.pth')"
   ]
  },
  {
   "cell_type": "code",
   "execution_count": null,
   "id": "a485b340",
   "metadata": {},
   "outputs": [],
   "source": []
  },
  {
   "cell_type": "code",
   "execution_count": null,
   "id": "17eb2ac4",
   "metadata": {},
   "outputs": [],
   "source": []
  }
 ],
 "metadata": {
  "kernelspec": {
   "display_name": "Python 3 (ipykernel)",
   "language": "python",
   "name": "python3"
  },
  "language_info": {
   "codemirror_mode": {
    "name": "ipython",
    "version": 3
   },
   "file_extension": ".py",
   "mimetype": "text/x-python",
   "name": "python",
   "nbconvert_exporter": "python",
   "pygments_lexer": "ipython3",
   "version": "3.8.18"
  }
 },
 "nbformat": 4,
 "nbformat_minor": 5
}
