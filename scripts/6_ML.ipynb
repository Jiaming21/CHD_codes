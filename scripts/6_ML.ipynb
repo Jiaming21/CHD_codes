{
 "cells": [
  {
   "cell_type": "code",
   "execution_count": 3,
   "id": "3c4e6911",
   "metadata": {},
   "outputs": [],
   "source": [
    "import pandas as pd\n",
    "import numpy as np\n",
    "import torch\n",
    "import torch.nn as nn\n",
    "import torch.optim as optim\n",
    "import torch.optim.lr_scheduler as lr_scheduler\n",
    "import matplotlib.pyplot as plt\n",
    "import math\n",
    "from sklearn.metrics import roc_curve, auc, roc_auc_score, confusion_matrix, accuracy_score, f1_score, matthews_corrcoef,recall_score, precision_score\n",
    "from sklearn.model_selection import KFold, train_test_split\n",
    "from torch.utils.data import TensorDataset, DataLoader, random_split"
   ]
  },
  {
   "cell_type": "code",
   "execution_count": 4,
   "id": "a3a8e7b6",
   "metadata": {},
   "outputs": [],
   "source": [
    "batch_size = 128\n",
    "loaded_datasets_info = torch.load('/Users/jiaming/Desktop/Lab2/datas/saved_datasets_scaled.pth')\n",
    "loaded_train_dataset = loaded_datasets_info['train_dataset']\n",
    "loaded_val_dataset = loaded_datasets_info['val_dataset']\n",
    "loaded_test_dataset = loaded_datasets_info['test_dataset']"
   ]
  },
  {
   "cell_type": "code",
   "execution_count": 5,
   "id": "60060c88",
   "metadata": {},
   "outputs": [],
   "source": [
    "from torch.utils.data import DataLoader\n",
    "\n",
    "def extract_features_labels_from_subset(subset):\n",
    "    \n",
    "    loader = DataLoader(subset, batch_size=len(subset))\n",
    "    \n",
    "    for features, labels in loader:\n",
    "        features = features.squeeze(1).numpy()\n",
    "        labels = labels.squeeze(1).numpy()\n",
    "        return features, labels\n",
    "\n",
    "X_train, y_train = extract_features_labels_from_subset(loaded_train_dataset)\n",
    "X_val, y_val = extract_features_labels_from_subset(loaded_val_dataset)\n",
    "X_test, y_test = extract_features_labels_from_subset(loaded_test_dataset)"
   ]
  },
  {
   "cell_type": "markdown",
   "id": "31a53807",
   "metadata": {},
   "source": [
    "# 1. XGB"
   ]
  },
  {
   "cell_type": "code",
   "execution_count": 105,
   "id": "a841772f",
   "metadata": {},
   "outputs": [],
   "source": [
    "import xgboost as xgb\n",
    "import matplotlib.pyplot as plt"
   ]
  },
  {
   "cell_type": "code",
   "execution_count": 106,
   "id": "35ca8461",
   "metadata": {},
   "outputs": [
    {
     "data": {
      "text/html": [
       "<style>#sk-container-id-16 {color: black;}#sk-container-id-16 pre{padding: 0;}#sk-container-id-16 div.sk-toggleable {background-color: white;}#sk-container-id-16 label.sk-toggleable__label {cursor: pointer;display: block;width: 100%;margin-bottom: 0;padding: 0.3em;box-sizing: border-box;text-align: center;}#sk-container-id-16 label.sk-toggleable__label-arrow:before {content: \"▸\";float: left;margin-right: 0.25em;color: #696969;}#sk-container-id-16 label.sk-toggleable__label-arrow:hover:before {color: black;}#sk-container-id-16 div.sk-estimator:hover label.sk-toggleable__label-arrow:before {color: black;}#sk-container-id-16 div.sk-toggleable__content {max-height: 0;max-width: 0;overflow: hidden;text-align: left;background-color: #f0f8ff;}#sk-container-id-16 div.sk-toggleable__content pre {margin: 0.2em;color: black;border-radius: 0.25em;background-color: #f0f8ff;}#sk-container-id-16 input.sk-toggleable__control:checked~div.sk-toggleable__content {max-height: 200px;max-width: 100%;overflow: auto;}#sk-container-id-16 input.sk-toggleable__control:checked~label.sk-toggleable__label-arrow:before {content: \"▾\";}#sk-container-id-16 div.sk-estimator input.sk-toggleable__control:checked~label.sk-toggleable__label {background-color: #d4ebff;}#sk-container-id-16 div.sk-label input.sk-toggleable__control:checked~label.sk-toggleable__label {background-color: #d4ebff;}#sk-container-id-16 input.sk-hidden--visually {border: 0;clip: rect(1px 1px 1px 1px);clip: rect(1px, 1px, 1px, 1px);height: 1px;margin: -1px;overflow: hidden;padding: 0;position: absolute;width: 1px;}#sk-container-id-16 div.sk-estimator {font-family: monospace;background-color: #f0f8ff;border: 1px dotted black;border-radius: 0.25em;box-sizing: border-box;margin-bottom: 0.5em;}#sk-container-id-16 div.sk-estimator:hover {background-color: #d4ebff;}#sk-container-id-16 div.sk-parallel-item::after {content: \"\";width: 100%;border-bottom: 1px solid gray;flex-grow: 1;}#sk-container-id-16 div.sk-label:hover label.sk-toggleable__label {background-color: #d4ebff;}#sk-container-id-16 div.sk-serial::before {content: \"\";position: absolute;border-left: 1px solid gray;box-sizing: border-box;top: 0;bottom: 0;left: 50%;z-index: 0;}#sk-container-id-16 div.sk-serial {display: flex;flex-direction: column;align-items: center;background-color: white;padding-right: 0.2em;padding-left: 0.2em;position: relative;}#sk-container-id-16 div.sk-item {position: relative;z-index: 1;}#sk-container-id-16 div.sk-parallel {display: flex;align-items: stretch;justify-content: center;background-color: white;position: relative;}#sk-container-id-16 div.sk-item::before, #sk-container-id-16 div.sk-parallel-item::before {content: \"\";position: absolute;border-left: 1px solid gray;box-sizing: border-box;top: 0;bottom: 0;left: 50%;z-index: -1;}#sk-container-id-16 div.sk-parallel-item {display: flex;flex-direction: column;z-index: 1;position: relative;background-color: white;}#sk-container-id-16 div.sk-parallel-item:first-child::after {align-self: flex-end;width: 50%;}#sk-container-id-16 div.sk-parallel-item:last-child::after {align-self: flex-start;width: 50%;}#sk-container-id-16 div.sk-parallel-item:only-child::after {width: 0;}#sk-container-id-16 div.sk-dashed-wrapped {border: 1px dashed gray;margin: 0 0.4em 0.5em 0.4em;box-sizing: border-box;padding-bottom: 0.4em;background-color: white;}#sk-container-id-16 div.sk-label label {font-family: monospace;font-weight: bold;display: inline-block;line-height: 1.2em;}#sk-container-id-16 div.sk-label-container {text-align: center;}#sk-container-id-16 div.sk-container {/* jupyter's `normalize.less` sets `[hidden] { display: none; }` but bootstrap.min.css set `[hidden] { display: none !important; }` so we also need the `!important` here to be able to override the default hidden behavior on the sphinx rendered scikit-learn.org. See: https://github.com/scikit-learn/scikit-learn/issues/21755 */display: inline-block !important;position: relative;}#sk-container-id-16 div.sk-text-repr-fallback {display: none;}</style><div id=\"sk-container-id-16\" class=\"sk-top-container\"><div class=\"sk-text-repr-fallback\"><pre>XGBRegressor(base_score=None, booster=None, callbacks=None,\n",
       "             colsample_bylevel=None, colsample_bynode=None,\n",
       "             colsample_bytree=None, device=None, early_stopping_rounds=None,\n",
       "             enable_categorical=False, eval_metric=None, feature_types=None,\n",
       "             gamma=None, grow_policy=None, importance_type=None,\n",
       "             interaction_constraints=None, learning_rate=0.1, max_bin=None,\n",
       "             max_cat_threshold=None, max_cat_to_onehot=None,\n",
       "             max_delta_step=None, max_depth=10, max_leaves=None,\n",
       "             min_child_weight=None, missing=nan, monotone_constraints=None,\n",
       "             multi_strategy=None, n_estimators=30, n_jobs=None,\n",
       "             num_parallel_tree=None, random_state=None, ...)</pre><b>In a Jupyter environment, please rerun this cell to show the HTML representation or trust the notebook. <br />On GitHub, the HTML representation is unable to render, please try loading this page with nbviewer.org.</b></div><div class=\"sk-container\" hidden><div class=\"sk-item\"><div class=\"sk-estimator sk-toggleable\"><input class=\"sk-toggleable__control sk-hidden--visually\" id=\"sk-estimator-id-16\" type=\"checkbox\" checked><label for=\"sk-estimator-id-16\" class=\"sk-toggleable__label sk-toggleable__label-arrow\">XGBRegressor</label><div class=\"sk-toggleable__content\"><pre>XGBRegressor(base_score=None, booster=None, callbacks=None,\n",
       "             colsample_bylevel=None, colsample_bynode=None,\n",
       "             colsample_bytree=None, device=None, early_stopping_rounds=None,\n",
       "             enable_categorical=False, eval_metric=None, feature_types=None,\n",
       "             gamma=None, grow_policy=None, importance_type=None,\n",
       "             interaction_constraints=None, learning_rate=0.1, max_bin=None,\n",
       "             max_cat_threshold=None, max_cat_to_onehot=None,\n",
       "             max_delta_step=None, max_depth=10, max_leaves=None,\n",
       "             min_child_weight=None, missing=nan, monotone_constraints=None,\n",
       "             multi_strategy=None, n_estimators=30, n_jobs=None,\n",
       "             num_parallel_tree=None, random_state=None, ...)</pre></div></div></div></div></div>"
      ],
      "text/plain": [
       "XGBRegressor(base_score=None, booster=None, callbacks=None,\n",
       "             colsample_bylevel=None, colsample_bynode=None,\n",
       "             colsample_bytree=None, device=None, early_stopping_rounds=None,\n",
       "             enable_categorical=False, eval_metric=None, feature_types=None,\n",
       "             gamma=None, grow_policy=None, importance_type=None,\n",
       "             interaction_constraints=None, learning_rate=0.1, max_bin=None,\n",
       "             max_cat_threshold=None, max_cat_to_onehot=None,\n",
       "             max_delta_step=None, max_depth=10, max_leaves=None,\n",
       "             min_child_weight=None, missing=nan, monotone_constraints=None,\n",
       "             multi_strategy=None, n_estimators=30, n_jobs=None,\n",
       "             num_parallel_tree=None, random_state=None, ...)"
      ]
     },
     "execution_count": 106,
     "metadata": {},
     "output_type": "execute_result"
    }
   ],
   "source": [
    "xgb_model = xgb.XGBRegressor(\n",
    "    objective='reg:squarederror',  \n",
    "    learning_rate=0.1,\n",
    "    max_depth=10,\n",
    "    n_estimators=30)\n",
    "\n",
    "xgb_model.fit(X_train, y_train)"
   ]
  },
  {
   "cell_type": "code",
   "execution_count": 107,
   "id": "421c8d57",
   "metadata": {},
   "outputs": [],
   "source": [
    "#torch.save(xgb_model.state_dict(), f'/Users/jiaming/Desktop/Lab2/datas/ROC/xgb_model.pth') # only used for nn\n",
    "xgb_model.save_model('/Users/jiaming/Desktop/Lab2/datas/ROC/models/xgb_model.json') "
   ]
  },
  {
   "cell_type": "code",
   "execution_count": 108,
   "id": "a3309022",
   "metadata": {},
   "outputs": [
    {
     "name": "stdout",
     "output_type": "stream",
     "text": [
      "0.6233704443810067 0.5922330097087378 0.18927265871633372 0.5663716814159292 0.6464646464646465 0.6037735849056604\n"
     ]
    }
   ],
   "source": [
    "y_pred = xgb_model.predict(X_val)\n",
    "AUC_val = roc_auc_score(y_val, y_pred)\n",
    "ACC_val = accuracy_score(y_val, (y_pred > 0.5).astype(int))\n",
    "MCC_val = matthews_corrcoef(y_val, (y_pred > 0.5).astype(int))\n",
    "Sn_val = recall_score(y_val, (y_pred > 0.5).astype(int))\n",
    "Sp_val = precision_score(y_val, (y_pred > 0.5).astype(int))\n",
    "F1_val = f1_score(y_val, (y_pred > 0.5).astype(int))\n",
    "print(AUC_val, ACC_val, MCC_val, Sn_val, Sp_val, F1_val)"
   ]
  },
  {
   "cell_type": "code",
   "execution_count": 109,
   "id": "6b2b1745",
   "metadata": {},
   "outputs": [],
   "source": [
    "np.save('/Users/jiaming/Desktop/Lab2/datas/ROC/val/y_val_pred_xgb.npy', y_pred)\n",
    "np.save('/Users/jiaming/Desktop/Lab2/datas/ROC/val/y_val_xgb.npy', y_val)"
   ]
  },
  {
   "cell_type": "code",
   "execution_count": 110,
   "id": "918494dc",
   "metadata": {},
   "outputs": [
    {
     "name": "stdout",
     "output_type": "stream",
     "text": [
      "0.6319143819143819 0.5503875968992248 0.10421428116096709 0.49242424242424243 0.5701754385964912 0.5284552845528455\n"
     ]
    }
   ],
   "source": [
    "y_pred = xgb_model.predict(X_test)\n",
    "AUC_test = roc_auc_score(y_test, y_pred)\n",
    "ACC_test = accuracy_score(y_test, (y_pred > 0.5).astype(int))\n",
    "MCC_test = matthews_corrcoef(y_test, (y_pred > 0.5).astype(int))\n",
    "Sn_test = recall_score(y_test, (y_pred > 0.5).astype(int))\n",
    "Sp_test = precision_score(y_test, (y_pred > 0.5).astype(int))\n",
    "F1_test = f1_score(y_test, (y_pred > 0.5).astype(int))\n",
    "print(AUC_test, ACC_test, MCC_test, Sn_test, Sp_test, F1_test)"
   ]
  },
  {
   "cell_type": "code",
   "execution_count": 111,
   "id": "1e1f19b7",
   "metadata": {},
   "outputs": [],
   "source": [
    "np.save('/Users/jiaming/Desktop/Lab2/datas/ROC/test/y_test_pred_xgb.npy', y_pred)\n",
    "np.save('/Users/jiaming/Desktop/Lab2/datas/ROC/test/y_test_xgb.npy', y_test)"
   ]
  },
  {
   "cell_type": "markdown",
   "id": "ab839047",
   "metadata": {},
   "source": [
    "# 2. SVM"
   ]
  },
  {
   "cell_type": "code",
   "execution_count": 112,
   "id": "ff74f651",
   "metadata": {},
   "outputs": [],
   "source": [
    "from sklearn.svm import SVC"
   ]
  },
  {
   "cell_type": "code",
   "execution_count": 113,
   "id": "be81dd01",
   "metadata": {},
   "outputs": [
    {
     "data": {
      "text/html": [
       "<style>#sk-container-id-17 {color: black;}#sk-container-id-17 pre{padding: 0;}#sk-container-id-17 div.sk-toggleable {background-color: white;}#sk-container-id-17 label.sk-toggleable__label {cursor: pointer;display: block;width: 100%;margin-bottom: 0;padding: 0.3em;box-sizing: border-box;text-align: center;}#sk-container-id-17 label.sk-toggleable__label-arrow:before {content: \"▸\";float: left;margin-right: 0.25em;color: #696969;}#sk-container-id-17 label.sk-toggleable__label-arrow:hover:before {color: black;}#sk-container-id-17 div.sk-estimator:hover label.sk-toggleable__label-arrow:before {color: black;}#sk-container-id-17 div.sk-toggleable__content {max-height: 0;max-width: 0;overflow: hidden;text-align: left;background-color: #f0f8ff;}#sk-container-id-17 div.sk-toggleable__content pre {margin: 0.2em;color: black;border-radius: 0.25em;background-color: #f0f8ff;}#sk-container-id-17 input.sk-toggleable__control:checked~div.sk-toggleable__content {max-height: 200px;max-width: 100%;overflow: auto;}#sk-container-id-17 input.sk-toggleable__control:checked~label.sk-toggleable__label-arrow:before {content: \"▾\";}#sk-container-id-17 div.sk-estimator input.sk-toggleable__control:checked~label.sk-toggleable__label {background-color: #d4ebff;}#sk-container-id-17 div.sk-label input.sk-toggleable__control:checked~label.sk-toggleable__label {background-color: #d4ebff;}#sk-container-id-17 input.sk-hidden--visually {border: 0;clip: rect(1px 1px 1px 1px);clip: rect(1px, 1px, 1px, 1px);height: 1px;margin: -1px;overflow: hidden;padding: 0;position: absolute;width: 1px;}#sk-container-id-17 div.sk-estimator {font-family: monospace;background-color: #f0f8ff;border: 1px dotted black;border-radius: 0.25em;box-sizing: border-box;margin-bottom: 0.5em;}#sk-container-id-17 div.sk-estimator:hover {background-color: #d4ebff;}#sk-container-id-17 div.sk-parallel-item::after {content: \"\";width: 100%;border-bottom: 1px solid gray;flex-grow: 1;}#sk-container-id-17 div.sk-label:hover label.sk-toggleable__label {background-color: #d4ebff;}#sk-container-id-17 div.sk-serial::before {content: \"\";position: absolute;border-left: 1px solid gray;box-sizing: border-box;top: 0;bottom: 0;left: 50%;z-index: 0;}#sk-container-id-17 div.sk-serial {display: flex;flex-direction: column;align-items: center;background-color: white;padding-right: 0.2em;padding-left: 0.2em;position: relative;}#sk-container-id-17 div.sk-item {position: relative;z-index: 1;}#sk-container-id-17 div.sk-parallel {display: flex;align-items: stretch;justify-content: center;background-color: white;position: relative;}#sk-container-id-17 div.sk-item::before, #sk-container-id-17 div.sk-parallel-item::before {content: \"\";position: absolute;border-left: 1px solid gray;box-sizing: border-box;top: 0;bottom: 0;left: 50%;z-index: -1;}#sk-container-id-17 div.sk-parallel-item {display: flex;flex-direction: column;z-index: 1;position: relative;background-color: white;}#sk-container-id-17 div.sk-parallel-item:first-child::after {align-self: flex-end;width: 50%;}#sk-container-id-17 div.sk-parallel-item:last-child::after {align-self: flex-start;width: 50%;}#sk-container-id-17 div.sk-parallel-item:only-child::after {width: 0;}#sk-container-id-17 div.sk-dashed-wrapped {border: 1px dashed gray;margin: 0 0.4em 0.5em 0.4em;box-sizing: border-box;padding-bottom: 0.4em;background-color: white;}#sk-container-id-17 div.sk-label label {font-family: monospace;font-weight: bold;display: inline-block;line-height: 1.2em;}#sk-container-id-17 div.sk-label-container {text-align: center;}#sk-container-id-17 div.sk-container {/* jupyter's `normalize.less` sets `[hidden] { display: none; }` but bootstrap.min.css set `[hidden] { display: none !important; }` so we also need the `!important` here to be able to override the default hidden behavior on the sphinx rendered scikit-learn.org. See: https://github.com/scikit-learn/scikit-learn/issues/21755 */display: inline-block !important;position: relative;}#sk-container-id-17 div.sk-text-repr-fallback {display: none;}</style><div id=\"sk-container-id-17\" class=\"sk-top-container\"><div class=\"sk-text-repr-fallback\"><pre>SVC(C=3.0, probability=True)</pre><b>In a Jupyter environment, please rerun this cell to show the HTML representation or trust the notebook. <br />On GitHub, the HTML representation is unable to render, please try loading this page with nbviewer.org.</b></div><div class=\"sk-container\" hidden><div class=\"sk-item\"><div class=\"sk-estimator sk-toggleable\"><input class=\"sk-toggleable__control sk-hidden--visually\" id=\"sk-estimator-id-17\" type=\"checkbox\" checked><label for=\"sk-estimator-id-17\" class=\"sk-toggleable__label sk-toggleable__label-arrow\">SVC</label><div class=\"sk-toggleable__content\"><pre>SVC(C=3.0, probability=True)</pre></div></div></div></div></div>"
      ],
      "text/plain": [
       "SVC(C=3.0, probability=True)"
      ]
     },
     "execution_count": 113,
     "metadata": {},
     "output_type": "execute_result"
    }
   ],
   "source": [
    "#svm_model = SVC(kernel='linear', C=1.0, probability = True)\n",
    "svm_model = SVC(C=3.0, probability=True)\n",
    "svm_model.fit(X_train, y_train)"
   ]
  },
  {
   "cell_type": "code",
   "execution_count": 114,
   "id": "a343a343",
   "metadata": {},
   "outputs": [
    {
     "data": {
      "text/plain": [
       "['/Users/jiaming/Desktop/Lab2/datas/ROC/models/svm_model.joblib']"
      ]
     },
     "execution_count": 114,
     "metadata": {},
     "output_type": "execute_result"
    }
   ],
   "source": [
    "from joblib import dump, load\n",
    "\n",
    "# Assuming svm_model is your trained SVM model\n",
    "dump(svm_model, '/Users/jiaming/Desktop/Lab2/datas/ROC/models/svm_model.joblib')\n",
    "\n",
    "# To load the model back from the file\n",
    "# svm_model = load('/Users/jiaming/Desktop/Lab2/datas/ROC/models/svm_model.joblib')\n"
   ]
  },
  {
   "cell_type": "code",
   "execution_count": 115,
   "id": "8f627041",
   "metadata": {},
   "outputs": [
    {
     "name": "stdout",
     "output_type": "stream",
     "text": [
      "0.6532495955847368 0.5776699029126213 0.15513737756458576 0.5752212389380531 0.625 0.599078341013825\n"
     ]
    }
   ],
   "source": [
    "y_pred = svm_model.predict_proba(X_val)[:, 1]\n",
    "AUC_val = roc_auc_score(y_val, y_pred)\n",
    "ACC_val = accuracy_score(y_val, (y_pred > 0.5).astype(int))\n",
    "MCC_val = matthews_corrcoef(y_val, (y_pred > 0.5).astype(int))\n",
    "Sn_val = recall_score(y_val, (y_pred > 0.5).astype(int))\n",
    "Sp_val = precision_score(y_val, (y_pred > 0.5).astype(int))\n",
    "F1_val = f1_score(y_val, (y_pred > 0.5).astype(int))\n",
    "print(AUC_val, ACC_val, MCC_val, Sn_val, Sp_val, F1_val)"
   ]
  },
  {
   "cell_type": "code",
   "execution_count": 116,
   "id": "d694f6a8",
   "metadata": {},
   "outputs": [],
   "source": [
    "np.save('/Users/jiaming/Desktop/Lab2/datas/ROC/val/y_val_pred_svm.npy', y_pred)\n",
    "np.save('/Users/jiaming/Desktop/Lab2/datas/ROC/val/y_val_svm.npy', y_val)"
   ]
  },
  {
   "cell_type": "code",
   "execution_count": 117,
   "id": "c05cd3cc",
   "metadata": {},
   "outputs": [
    {
     "name": "stdout",
     "output_type": "stream",
     "text": [
      "0.6585497835497834 0.627906976744186 0.26216861655261253 0.553030303030303 0.6636363636363637 0.6033057851239669\n"
     ]
    }
   ],
   "source": [
    "y_pred = svm_model.predict_proba(X_test)[:, 1]\n",
    "AUC_test = roc_auc_score(y_test, y_pred)\n",
    "ACC_test = accuracy_score(y_test, (y_pred > 0.5).astype(int))\n",
    "MCC_test = matthews_corrcoef(y_test, (y_pred > 0.5).astype(int))\n",
    "Sn_test = recall_score(y_test, (y_pred > 0.5).astype(int))\n",
    "Sp_test = precision_score(y_test, (y_pred > 0.5).astype(int))\n",
    "F1_test = f1_score(y_test, (y_pred > 0.5).astype(int))\n",
    "print(AUC_test, ACC_test, MCC_test, Sn_test, Sp_test, F1_test)"
   ]
  },
  {
   "cell_type": "code",
   "execution_count": 118,
   "id": "1b836ae3",
   "metadata": {},
   "outputs": [],
   "source": [
    "np.save('/Users/jiaming/Desktop/Lab2/datas/ROC/test/y_test_pred_svm.npy', y_pred)\n",
    "np.save('/Users/jiaming/Desktop/Lab2/datas/ROC/test/y_test_svm.npy', y_test)"
   ]
  },
  {
   "cell_type": "markdown",
   "id": "e49e14cb",
   "metadata": {},
   "source": [
    "# 3. RF"
   ]
  },
  {
   "cell_type": "code",
   "execution_count": 119,
   "id": "3d5163ce",
   "metadata": {},
   "outputs": [],
   "source": [
    "from sklearn.ensemble import RandomForestClassifier"
   ]
  },
  {
   "cell_type": "code",
   "execution_count": 120,
   "id": "7df24bd3",
   "metadata": {},
   "outputs": [
    {
     "data": {
      "text/html": [
       "<style>#sk-container-id-18 {color: black;}#sk-container-id-18 pre{padding: 0;}#sk-container-id-18 div.sk-toggleable {background-color: white;}#sk-container-id-18 label.sk-toggleable__label {cursor: pointer;display: block;width: 100%;margin-bottom: 0;padding: 0.3em;box-sizing: border-box;text-align: center;}#sk-container-id-18 label.sk-toggleable__label-arrow:before {content: \"▸\";float: left;margin-right: 0.25em;color: #696969;}#sk-container-id-18 label.sk-toggleable__label-arrow:hover:before {color: black;}#sk-container-id-18 div.sk-estimator:hover label.sk-toggleable__label-arrow:before {color: black;}#sk-container-id-18 div.sk-toggleable__content {max-height: 0;max-width: 0;overflow: hidden;text-align: left;background-color: #f0f8ff;}#sk-container-id-18 div.sk-toggleable__content pre {margin: 0.2em;color: black;border-radius: 0.25em;background-color: #f0f8ff;}#sk-container-id-18 input.sk-toggleable__control:checked~div.sk-toggleable__content {max-height: 200px;max-width: 100%;overflow: auto;}#sk-container-id-18 input.sk-toggleable__control:checked~label.sk-toggleable__label-arrow:before {content: \"▾\";}#sk-container-id-18 div.sk-estimator input.sk-toggleable__control:checked~label.sk-toggleable__label {background-color: #d4ebff;}#sk-container-id-18 div.sk-label input.sk-toggleable__control:checked~label.sk-toggleable__label {background-color: #d4ebff;}#sk-container-id-18 input.sk-hidden--visually {border: 0;clip: rect(1px 1px 1px 1px);clip: rect(1px, 1px, 1px, 1px);height: 1px;margin: -1px;overflow: hidden;padding: 0;position: absolute;width: 1px;}#sk-container-id-18 div.sk-estimator {font-family: monospace;background-color: #f0f8ff;border: 1px dotted black;border-radius: 0.25em;box-sizing: border-box;margin-bottom: 0.5em;}#sk-container-id-18 div.sk-estimator:hover {background-color: #d4ebff;}#sk-container-id-18 div.sk-parallel-item::after {content: \"\";width: 100%;border-bottom: 1px solid gray;flex-grow: 1;}#sk-container-id-18 div.sk-label:hover label.sk-toggleable__label {background-color: #d4ebff;}#sk-container-id-18 div.sk-serial::before {content: \"\";position: absolute;border-left: 1px solid gray;box-sizing: border-box;top: 0;bottom: 0;left: 50%;z-index: 0;}#sk-container-id-18 div.sk-serial {display: flex;flex-direction: column;align-items: center;background-color: white;padding-right: 0.2em;padding-left: 0.2em;position: relative;}#sk-container-id-18 div.sk-item {position: relative;z-index: 1;}#sk-container-id-18 div.sk-parallel {display: flex;align-items: stretch;justify-content: center;background-color: white;position: relative;}#sk-container-id-18 div.sk-item::before, #sk-container-id-18 div.sk-parallel-item::before {content: \"\";position: absolute;border-left: 1px solid gray;box-sizing: border-box;top: 0;bottom: 0;left: 50%;z-index: -1;}#sk-container-id-18 div.sk-parallel-item {display: flex;flex-direction: column;z-index: 1;position: relative;background-color: white;}#sk-container-id-18 div.sk-parallel-item:first-child::after {align-self: flex-end;width: 50%;}#sk-container-id-18 div.sk-parallel-item:last-child::after {align-self: flex-start;width: 50%;}#sk-container-id-18 div.sk-parallel-item:only-child::after {width: 0;}#sk-container-id-18 div.sk-dashed-wrapped {border: 1px dashed gray;margin: 0 0.4em 0.5em 0.4em;box-sizing: border-box;padding-bottom: 0.4em;background-color: white;}#sk-container-id-18 div.sk-label label {font-family: monospace;font-weight: bold;display: inline-block;line-height: 1.2em;}#sk-container-id-18 div.sk-label-container {text-align: center;}#sk-container-id-18 div.sk-container {/* jupyter's `normalize.less` sets `[hidden] { display: none; }` but bootstrap.min.css set `[hidden] { display: none !important; }` so we also need the `!important` here to be able to override the default hidden behavior on the sphinx rendered scikit-learn.org. See: https://github.com/scikit-learn/scikit-learn/issues/21755 */display: inline-block !important;position: relative;}#sk-container-id-18 div.sk-text-repr-fallback {display: none;}</style><div id=\"sk-container-id-18\" class=\"sk-top-container\"><div class=\"sk-text-repr-fallback\"><pre>RandomForestClassifier(random_state=42)</pre><b>In a Jupyter environment, please rerun this cell to show the HTML representation or trust the notebook. <br />On GitHub, the HTML representation is unable to render, please try loading this page with nbviewer.org.</b></div><div class=\"sk-container\" hidden><div class=\"sk-item\"><div class=\"sk-estimator sk-toggleable\"><input class=\"sk-toggleable__control sk-hidden--visually\" id=\"sk-estimator-id-18\" type=\"checkbox\" checked><label for=\"sk-estimator-id-18\" class=\"sk-toggleable__label sk-toggleable__label-arrow\">RandomForestClassifier</label><div class=\"sk-toggleable__content\"><pre>RandomForestClassifier(random_state=42)</pre></div></div></div></div></div>"
      ],
      "text/plain": [
       "RandomForestClassifier(random_state=42)"
      ]
     },
     "execution_count": 120,
     "metadata": {},
     "output_type": "execute_result"
    }
   ],
   "source": [
    "rf_model = RandomForestClassifier(n_estimators=100, random_state=42)\n",
    "rf_model.fit(X_train, y_train)"
   ]
  },
  {
   "cell_type": "code",
   "execution_count": 121,
   "id": "837405e1",
   "metadata": {},
   "outputs": [
    {
     "data": {
      "text/plain": [
       "['/Users/jiaming/Desktop/Lab2/datas/ROC/models/rf_model.joblib']"
      ]
     },
     "execution_count": 121,
     "metadata": {},
     "output_type": "execute_result"
    }
   ],
   "source": [
    "# rf_model.save_model('/Users/jiaming/Desktop/Lab2/datas/ROC/models/rf_model.json') \n",
    "from joblib import dump, load\n",
    "\n",
    "dump(rf_model, '/Users/jiaming/Desktop/Lab2/datas/ROC/models/rf_model.joblib')\n",
    "\n",
    "# To load the model back from the file\n",
    "# rf_model = load('/Users/jiaming/Desktop/Lab2/datas/ROC/models/rf_model.joblib')"
   ]
  },
  {
   "cell_type": "code",
   "execution_count": 122,
   "id": "5142c467",
   "metadata": {},
   "outputs": [
    {
     "name": "stdout",
     "output_type": "stream",
     "text": [
      "0.6633837662955562 0.6116504854368932 0.2326402184955707 0.5663716814159292 0.6736842105263158 0.6153846153846154\n"
     ]
    }
   ],
   "source": [
    "y_pred = rf_model.predict_proba(X_val)[:, 1]\n",
    "AUC_val = roc_auc_score(y_val, y_pred)\n",
    "ACC_val = accuracy_score(y_val, (y_pred > 0.5).astype(int))\n",
    "MCC_val = matthews_corrcoef(y_val, (y_pred > 0.5).astype(int))\n",
    "Sn_val = recall_score(y_val, (y_pred > 0.5).astype(int))\n",
    "Sp_val = precision_score(y_val, (y_pred > 0.5).astype(int))\n",
    "F1_val = f1_score(y_val, (y_pred > 0.5).astype(int))\n",
    "print(AUC_val, ACC_val, MCC_val, Sn_val, Sp_val, F1_val)"
   ]
  },
  {
   "cell_type": "code",
   "execution_count": 123,
   "id": "5a2ea722",
   "metadata": {},
   "outputs": [],
   "source": [
    "np.save('/Users/jiaming/Desktop/Lab2/datas/ROC/val/y_val_pred_rf.npy', y_pred)\n",
    "np.save('/Users/jiaming/Desktop/Lab2/datas/ROC/val/y_val_rf.npy', y_val)"
   ]
  },
  {
   "cell_type": "code",
   "execution_count": 124,
   "id": "90807f40",
   "metadata": {},
   "outputs": [
    {
     "name": "stdout",
     "output_type": "stream",
     "text": [
      "0.666005291005291 0.6046511627906976 0.21351218579320086 0.5454545454545454 0.631578947368421 0.5853658536585366\n"
     ]
    }
   ],
   "source": [
    "y_pred = rf_model.predict_proba(X_test)[:, 1]\n",
    "AUC_test = roc_auc_score(y_test, y_pred)\n",
    "ACC_test = accuracy_score(y_test, (y_pred > 0.5).astype(int))\n",
    "MCC_test = matthews_corrcoef(y_test, (y_pred > 0.5).astype(int))\n",
    "Sn_test = recall_score(y_test, (y_pred > 0.5).astype(int))\n",
    "Sp_test = precision_score(y_test, (y_pred > 0.5).astype(int))\n",
    "F1_test = f1_score(y_test, (y_pred > 0.5).astype(int))\n",
    "print(AUC_test, ACC_test, MCC_test, Sn_test, Sp_test, F1_test)"
   ]
  },
  {
   "cell_type": "code",
   "execution_count": 125,
   "id": "2ba042d8",
   "metadata": {},
   "outputs": [],
   "source": [
    "np.save('/Users/jiaming/Desktop/Lab2/datas/ROC/test/y_test_pred_rf.npy', y_pred)\n",
    "np.save('/Users/jiaming/Desktop/Lab2/datas/ROC/test/y_test_rf.npy', y_test)"
   ]
  },
  {
   "cell_type": "markdown",
   "id": "83d0df95",
   "metadata": {},
   "source": [
    "# 4. NB"
   ]
  },
  {
   "cell_type": "code",
   "execution_count": 6,
   "id": "f236a536",
   "metadata": {},
   "outputs": [],
   "source": [
    "from sklearn.naive_bayes import GaussianNB"
   ]
  },
  {
   "cell_type": "code",
   "execution_count": 7,
   "id": "1bef6f52",
   "metadata": {},
   "outputs": [
    {
     "data": {
      "text/html": [
       "<style>#sk-container-id-1 {color: black;}#sk-container-id-1 pre{padding: 0;}#sk-container-id-1 div.sk-toggleable {background-color: white;}#sk-container-id-1 label.sk-toggleable__label {cursor: pointer;display: block;width: 100%;margin-bottom: 0;padding: 0.3em;box-sizing: border-box;text-align: center;}#sk-container-id-1 label.sk-toggleable__label-arrow:before {content: \"▸\";float: left;margin-right: 0.25em;color: #696969;}#sk-container-id-1 label.sk-toggleable__label-arrow:hover:before {color: black;}#sk-container-id-1 div.sk-estimator:hover label.sk-toggleable__label-arrow:before {color: black;}#sk-container-id-1 div.sk-toggleable__content {max-height: 0;max-width: 0;overflow: hidden;text-align: left;background-color: #f0f8ff;}#sk-container-id-1 div.sk-toggleable__content pre {margin: 0.2em;color: black;border-radius: 0.25em;background-color: #f0f8ff;}#sk-container-id-1 input.sk-toggleable__control:checked~div.sk-toggleable__content {max-height: 200px;max-width: 100%;overflow: auto;}#sk-container-id-1 input.sk-toggleable__control:checked~label.sk-toggleable__label-arrow:before {content: \"▾\";}#sk-container-id-1 div.sk-estimator input.sk-toggleable__control:checked~label.sk-toggleable__label {background-color: #d4ebff;}#sk-container-id-1 div.sk-label input.sk-toggleable__control:checked~label.sk-toggleable__label {background-color: #d4ebff;}#sk-container-id-1 input.sk-hidden--visually {border: 0;clip: rect(1px 1px 1px 1px);clip: rect(1px, 1px, 1px, 1px);height: 1px;margin: -1px;overflow: hidden;padding: 0;position: absolute;width: 1px;}#sk-container-id-1 div.sk-estimator {font-family: monospace;background-color: #f0f8ff;border: 1px dotted black;border-radius: 0.25em;box-sizing: border-box;margin-bottom: 0.5em;}#sk-container-id-1 div.sk-estimator:hover {background-color: #d4ebff;}#sk-container-id-1 div.sk-parallel-item::after {content: \"\";width: 100%;border-bottom: 1px solid gray;flex-grow: 1;}#sk-container-id-1 div.sk-label:hover label.sk-toggleable__label {background-color: #d4ebff;}#sk-container-id-1 div.sk-serial::before {content: \"\";position: absolute;border-left: 1px solid gray;box-sizing: border-box;top: 0;bottom: 0;left: 50%;z-index: 0;}#sk-container-id-1 div.sk-serial {display: flex;flex-direction: column;align-items: center;background-color: white;padding-right: 0.2em;padding-left: 0.2em;position: relative;}#sk-container-id-1 div.sk-item {position: relative;z-index: 1;}#sk-container-id-1 div.sk-parallel {display: flex;align-items: stretch;justify-content: center;background-color: white;position: relative;}#sk-container-id-1 div.sk-item::before, #sk-container-id-1 div.sk-parallel-item::before {content: \"\";position: absolute;border-left: 1px solid gray;box-sizing: border-box;top: 0;bottom: 0;left: 50%;z-index: -1;}#sk-container-id-1 div.sk-parallel-item {display: flex;flex-direction: column;z-index: 1;position: relative;background-color: white;}#sk-container-id-1 div.sk-parallel-item:first-child::after {align-self: flex-end;width: 50%;}#sk-container-id-1 div.sk-parallel-item:last-child::after {align-self: flex-start;width: 50%;}#sk-container-id-1 div.sk-parallel-item:only-child::after {width: 0;}#sk-container-id-1 div.sk-dashed-wrapped {border: 1px dashed gray;margin: 0 0.4em 0.5em 0.4em;box-sizing: border-box;padding-bottom: 0.4em;background-color: white;}#sk-container-id-1 div.sk-label label {font-family: monospace;font-weight: bold;display: inline-block;line-height: 1.2em;}#sk-container-id-1 div.sk-label-container {text-align: center;}#sk-container-id-1 div.sk-container {/* jupyter's `normalize.less` sets `[hidden] { display: none; }` but bootstrap.min.css set `[hidden] { display: none !important; }` so we also need the `!important` here to be able to override the default hidden behavior on the sphinx rendered scikit-learn.org. See: https://github.com/scikit-learn/scikit-learn/issues/21755 */display: inline-block !important;position: relative;}#sk-container-id-1 div.sk-text-repr-fallback {display: none;}</style><div id=\"sk-container-id-1\" class=\"sk-top-container\"><div class=\"sk-text-repr-fallback\"><pre>GaussianNB()</pre><b>In a Jupyter environment, please rerun this cell to show the HTML representation or trust the notebook. <br />On GitHub, the HTML representation is unable to render, please try loading this page with nbviewer.org.</b></div><div class=\"sk-container\" hidden><div class=\"sk-item\"><div class=\"sk-estimator sk-toggleable\"><input class=\"sk-toggleable__control sk-hidden--visually\" id=\"sk-estimator-id-1\" type=\"checkbox\" checked><label for=\"sk-estimator-id-1\" class=\"sk-toggleable__label sk-toggleable__label-arrow\">GaussianNB</label><div class=\"sk-toggleable__content\"><pre>GaussianNB()</pre></div></div></div></div></div>"
      ],
      "text/plain": [
       "GaussianNB()"
      ]
     },
     "execution_count": 7,
     "metadata": {},
     "output_type": "execute_result"
    }
   ],
   "source": [
    "nb_model = GaussianNB()\n",
    "nb_model.fit(X_train, y_train)"
   ]
  },
  {
   "cell_type": "code",
   "execution_count": 8,
   "id": "5f2ac051",
   "metadata": {},
   "outputs": [
    {
     "data": {
      "text/plain": [
       "['/Users/jiaming/Desktop/Lab2/datas/ROC/models/nb_model.joblib']"
      ]
     },
     "execution_count": 8,
     "metadata": {},
     "output_type": "execute_result"
    }
   ],
   "source": [
    "from joblib import dump, load\n",
    "\n",
    "dump(nb_model, '/Users/jiaming/Desktop/Lab2/datas/ROC/models/nb_model.joblib')"
   ]
  },
  {
   "cell_type": "code",
   "execution_count": 129,
   "id": "bf70bc5a",
   "metadata": {},
   "outputs": [
    {
     "name": "stdout",
     "output_type": "stream",
     "text": [
      "0.6942620610904938 0.5339805825242718 0.2554609973023637 0.1592920353982301 0.9473684210526315 0.27272727272727276\n"
     ]
    }
   ],
   "source": [
    "y_pred = nb_model.predict_proba(X_val)[:, 1]\n",
    "AUC_val = roc_auc_score(y_val, y_pred)\n",
    "ACC_val = accuracy_score(y_val, (y_pred > 0.5).astype(int))\n",
    "MCC_val = matthews_corrcoef(y_val, (y_pred > 0.5).astype(int))\n",
    "Sn_val = recall_score(y_val, (y_pred > 0.5).astype(int))\n",
    "Sp_val = precision_score(y_val, (y_pred > 0.5).astype(int))\n",
    "F1_val = f1_score(y_val, (y_pred > 0.5).astype(int))\n",
    "print(AUC_val, ACC_val, MCC_val, Sn_val, Sp_val, F1_val)"
   ]
  },
  {
   "cell_type": "code",
   "execution_count": 130,
   "id": "ce9a071d",
   "metadata": {},
   "outputs": [],
   "source": [
    "np.save('/Users/jiaming/Desktop/Lab2/datas/ROC/val/y_val_pred_nb.npy', y_pred)\n",
    "np.save('/Users/jiaming/Desktop/Lab2/datas/ROC/val/y_val_nb.npy', y_val)"
   ]
  },
  {
   "cell_type": "code",
   "execution_count": 131,
   "id": "e5884e7b",
   "metadata": {},
   "outputs": [
    {
     "name": "stdout",
     "output_type": "stream",
     "text": [
      "0.7086940836940837 0.5193798449612403 0.09933114583726094 0.12121212121212122 0.6666666666666666 0.20512820512820512\n"
     ]
    }
   ],
   "source": [
    "y_pred = nb_model.predict_proba(X_test)[:, 1]\n",
    "AUC_test = roc_auc_score(y_test, y_pred)\n",
    "ACC_test = accuracy_score(y_test, (y_pred > 0.5).astype(int))\n",
    "MCC_test = matthews_corrcoef(y_test, (y_pred > 0.5).astype(int))\n",
    "Sn_test = recall_score(y_test, (y_pred > 0.5).astype(int))\n",
    "Sp_test = precision_score(y_test, (y_pred > 0.5).astype(int))\n",
    "F1_test = f1_score(y_test, (y_pred > 0.5).astype(int))\n",
    "print(AUC_test, ACC_test, MCC_test, Sn_test, Sp_test, F1_test)"
   ]
  },
  {
   "cell_type": "code",
   "execution_count": 132,
   "id": "5c4c4087",
   "metadata": {},
   "outputs": [],
   "source": [
    "np.save('/Users/jiaming/Desktop/Lab2/datas/ROC/test/y_test_pred_nb.npy', y_pred)\n",
    "np.save('/Users/jiaming/Desktop/Lab2/datas/ROC/test/y_test_nb.npy', y_test)"
   ]
  },
  {
   "cell_type": "markdown",
   "id": "e5e44b42",
   "metadata": {},
   "source": [
    "# 5. LR (Logistic Regresssion)"
   ]
  },
  {
   "cell_type": "code",
   "execution_count": 194,
   "id": "03da917b",
   "metadata": {},
   "outputs": [],
   "source": [
    "from sklearn.linear_model import LogisticRegression"
   ]
  },
  {
   "cell_type": "code",
   "execution_count": 195,
   "id": "09a42e09",
   "metadata": {},
   "outputs": [
    {
     "data": {
      "text/html": [
       "<style>#sk-container-id-30 {color: black;}#sk-container-id-30 pre{padding: 0;}#sk-container-id-30 div.sk-toggleable {background-color: white;}#sk-container-id-30 label.sk-toggleable__label {cursor: pointer;display: block;width: 100%;margin-bottom: 0;padding: 0.3em;box-sizing: border-box;text-align: center;}#sk-container-id-30 label.sk-toggleable__label-arrow:before {content: \"▸\";float: left;margin-right: 0.25em;color: #696969;}#sk-container-id-30 label.sk-toggleable__label-arrow:hover:before {color: black;}#sk-container-id-30 div.sk-estimator:hover label.sk-toggleable__label-arrow:before {color: black;}#sk-container-id-30 div.sk-toggleable__content {max-height: 0;max-width: 0;overflow: hidden;text-align: left;background-color: #f0f8ff;}#sk-container-id-30 div.sk-toggleable__content pre {margin: 0.2em;color: black;border-radius: 0.25em;background-color: #f0f8ff;}#sk-container-id-30 input.sk-toggleable__control:checked~div.sk-toggleable__content {max-height: 200px;max-width: 100%;overflow: auto;}#sk-container-id-30 input.sk-toggleable__control:checked~label.sk-toggleable__label-arrow:before {content: \"▾\";}#sk-container-id-30 div.sk-estimator input.sk-toggleable__control:checked~label.sk-toggleable__label {background-color: #d4ebff;}#sk-container-id-30 div.sk-label input.sk-toggleable__control:checked~label.sk-toggleable__label {background-color: #d4ebff;}#sk-container-id-30 input.sk-hidden--visually {border: 0;clip: rect(1px 1px 1px 1px);clip: rect(1px, 1px, 1px, 1px);height: 1px;margin: -1px;overflow: hidden;padding: 0;position: absolute;width: 1px;}#sk-container-id-30 div.sk-estimator {font-family: monospace;background-color: #f0f8ff;border: 1px dotted black;border-radius: 0.25em;box-sizing: border-box;margin-bottom: 0.5em;}#sk-container-id-30 div.sk-estimator:hover {background-color: #d4ebff;}#sk-container-id-30 div.sk-parallel-item::after {content: \"\";width: 100%;border-bottom: 1px solid gray;flex-grow: 1;}#sk-container-id-30 div.sk-label:hover label.sk-toggleable__label {background-color: #d4ebff;}#sk-container-id-30 div.sk-serial::before {content: \"\";position: absolute;border-left: 1px solid gray;box-sizing: border-box;top: 0;bottom: 0;left: 50%;z-index: 0;}#sk-container-id-30 div.sk-serial {display: flex;flex-direction: column;align-items: center;background-color: white;padding-right: 0.2em;padding-left: 0.2em;position: relative;}#sk-container-id-30 div.sk-item {position: relative;z-index: 1;}#sk-container-id-30 div.sk-parallel {display: flex;align-items: stretch;justify-content: center;background-color: white;position: relative;}#sk-container-id-30 div.sk-item::before, #sk-container-id-30 div.sk-parallel-item::before {content: \"\";position: absolute;border-left: 1px solid gray;box-sizing: border-box;top: 0;bottom: 0;left: 50%;z-index: -1;}#sk-container-id-30 div.sk-parallel-item {display: flex;flex-direction: column;z-index: 1;position: relative;background-color: white;}#sk-container-id-30 div.sk-parallel-item:first-child::after {align-self: flex-end;width: 50%;}#sk-container-id-30 div.sk-parallel-item:last-child::after {align-self: flex-start;width: 50%;}#sk-container-id-30 div.sk-parallel-item:only-child::after {width: 0;}#sk-container-id-30 div.sk-dashed-wrapped {border: 1px dashed gray;margin: 0 0.4em 0.5em 0.4em;box-sizing: border-box;padding-bottom: 0.4em;background-color: white;}#sk-container-id-30 div.sk-label label {font-family: monospace;font-weight: bold;display: inline-block;line-height: 1.2em;}#sk-container-id-30 div.sk-label-container {text-align: center;}#sk-container-id-30 div.sk-container {/* jupyter's `normalize.less` sets `[hidden] { display: none; }` but bootstrap.min.css set `[hidden] { display: none !important; }` so we also need the `!important` here to be able to override the default hidden behavior on the sphinx rendered scikit-learn.org. See: https://github.com/scikit-learn/scikit-learn/issues/21755 */display: inline-block !important;position: relative;}#sk-container-id-30 div.sk-text-repr-fallback {display: none;}</style><div id=\"sk-container-id-30\" class=\"sk-top-container\"><div class=\"sk-text-repr-fallback\"><pre>LogisticRegression(random_state=42)</pre><b>In a Jupyter environment, please rerun this cell to show the HTML representation or trust the notebook. <br />On GitHub, the HTML representation is unable to render, please try loading this page with nbviewer.org.</b></div><div class=\"sk-container\" hidden><div class=\"sk-item\"><div class=\"sk-estimator sk-toggleable\"><input class=\"sk-toggleable__control sk-hidden--visually\" id=\"sk-estimator-id-30\" type=\"checkbox\" checked><label for=\"sk-estimator-id-30\" class=\"sk-toggleable__label sk-toggleable__label-arrow\">LogisticRegression</label><div class=\"sk-toggleable__content\"><pre>LogisticRegression(random_state=42)</pre></div></div></div></div></div>"
      ],
      "text/plain": [
       "LogisticRegression(random_state=42)"
      ]
     },
     "execution_count": 195,
     "metadata": {},
     "output_type": "execute_result"
    }
   ],
   "source": [
    "# lr_model = LogisticRegression(max_iter=1000, random_state=42)\n",
    "lr_model = LogisticRegression(max_iter=100, random_state=42)\n",
    "lr_model.fit(X_train, y_train)"
   ]
  },
  {
   "cell_type": "code",
   "execution_count": 196,
   "id": "b177f52b",
   "metadata": {},
   "outputs": [
    {
     "data": {
      "text/plain": [
       "['/Users/jiaming/Desktop/Lab2/datas/ROC/models/lr_model.joblib']"
      ]
     },
     "execution_count": 196,
     "metadata": {},
     "output_type": "execute_result"
    }
   ],
   "source": [
    "from joblib import dump, load\n",
    "\n",
    "dump(lr_model, '/Users/jiaming/Desktop/Lab2/datas/ROC/models/lr_model.joblib')"
   ]
  },
  {
   "cell_type": "code",
   "execution_count": 197,
   "id": "c7a1506f",
   "metadata": {},
   "outputs": [
    {
     "name": "stdout",
     "output_type": "stream",
     "text": [
      "0.7201446379293939 0.6504854368932039 0.3086059187663238 0.6106194690265486 0.711340206185567 0.6571428571428571\n"
     ]
    }
   ],
   "source": [
    "y_pred = lr_model.predict_proba(X_val)[:, 1]\n",
    "AUC_val = roc_auc_score(y_val, y_pred)\n",
    "ACC_val = accuracy_score(y_val, (y_pred > 0.5).astype(int))\n",
    "MCC_val = matthews_corrcoef(y_val, (y_pred > 0.5).astype(int))\n",
    "Sn_val = recall_score(y_val, (y_pred > 0.5).astype(int))\n",
    "Sp_val = precision_score(y_val, (y_pred > 0.5).astype(int))\n",
    "F1_val = f1_score(y_val, (y_pred > 0.5).astype(int))\n",
    "print(AUC_val, ACC_val,MCC_val,Sn_val,Sp_val, F1_val)"
   ]
  },
  {
   "cell_type": "code",
   "execution_count": 198,
   "id": "111ecc93",
   "metadata": {},
   "outputs": [],
   "source": [
    "np.save('/Users/jiaming/Desktop/Lab2/datas/ROC/val/y_val_pred_lr.npy', y_pred)\n",
    "np.save('/Users/jiaming/Desktop/Lab2/datas/ROC/val/y_val_lr.npy', y_val)"
   ]
  },
  {
   "cell_type": "code",
   "execution_count": 199,
   "id": "96fb6cd9",
   "metadata": {},
   "outputs": [
    {
     "name": "stdout",
     "output_type": "stream",
     "text": [
      "0.7168710918710919 0.6782945736434108 0.3575788635001265 0.6590909090909091 0.696 0.6770428015564202\n"
     ]
    }
   ],
   "source": [
    "y_pred = lr_model.predict_proba(X_test)[:, 1]\n",
    "AUC_test = roc_auc_score(y_test, y_pred)\n",
    "ACC_test = accuracy_score(y_test, (y_pred > 0.5).astype(int))\n",
    "MCC_test = matthews_corrcoef(y_test, (y_pred > 0.5).astype(int))\n",
    "Sn_test = recall_score(y_test, (y_pred > 0.5).astype(int))\n",
    "Sp_test = precision_score(y_test, (y_pred > 0.5).astype(int))\n",
    "F1_test = f1_score(y_test, (y_pred > 0.5).astype(int))\n",
    "print(AUC_test, ACC_test, MCC_test,Sn_test,Sp_test, F1_test)"
   ]
  },
  {
   "cell_type": "code",
   "execution_count": 200,
   "id": "064c7fc1",
   "metadata": {},
   "outputs": [],
   "source": [
    "np.save('/Users/jiaming/Desktop/Lab2/datas/ROC/test/y_test_pred_lr.npy', y_pred)\n",
    "np.save('/Users/jiaming/Desktop/Lab2/datas/ROC/test/y_test_lr.npy', y_test)"
   ]
  },
  {
   "cell_type": "code",
   "execution_count": 201,
   "id": "a33be1b6",
   "metadata": {},
   "outputs": [
    {
     "name": "stdout",
     "output_type": "stream",
     "text": [
      "Weights (coefficients): [[ 5.58853978e-01  2.98264016e-01 -6.39688828e-02  3.02596337e-01\n",
      "   1.10264339e-01  4.29190740e-02 -1.16489216e-01  5.84512012e-02\n",
      "  -7.07853145e-02  7.07853145e-02  5.35062059e-02 -3.52294753e-02\n",
      "  -1.10325800e-02 -2.40048215e-02 -4.42258168e-03  4.42258168e-03\n",
      "  -6.56049243e-02  6.56049243e-02 -2.41480141e-01  2.41480141e-01\n",
      "   1.42870511e-04 -1.42870511e-04 -9.11320802e-02  9.11320802e-02]]\n",
      "Intercepts: [-0.03065455]\n"
     ]
    }
   ],
   "source": [
    "# 查看权重分配\n",
    "weights = lr_model.coef_\n",
    "intercept = lr_model.intercept_\n",
    "\n",
    "print(f\"Weights (coefficients): {weights}\")\n",
    "print(f\"Intercepts: {intercept}\")"
   ]
  },
  {
   "cell_type": "code",
   "execution_count": null,
   "id": "6dd188e8",
   "metadata": {},
   "outputs": [],
   "source": []
  },
  {
   "cell_type": "code",
   "execution_count": null,
   "id": "86fbc27c",
   "metadata": {},
   "outputs": [],
   "source": []
  },
  {
   "cell_type": "code",
   "execution_count": null,
   "id": "ddb14f58",
   "metadata": {},
   "outputs": [],
   "source": []
  }
 ],
 "metadata": {
  "kernelspec": {
   "display_name": "Python 3 (ipykernel)",
   "language": "python",
   "name": "python3"
  },
  "language_info": {
   "codemirror_mode": {
    "name": "ipython",
    "version": 3
   },
   "file_extension": ".py",
   "mimetype": "text/x-python",
   "name": "python",
   "nbconvert_exporter": "python",
   "pygments_lexer": "ipython3",
   "version": "3.8.18"
  }
 },
 "nbformat": 4,
 "nbformat_minor": 5
}
