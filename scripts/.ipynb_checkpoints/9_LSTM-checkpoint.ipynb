{
 "cells": [
  {
   "cell_type": "code",
   "execution_count": 155,
   "id": "4cb35c56",
   "metadata": {},
   "outputs": [],
   "source": [
    "import pandas as pd\n",
    "import numpy as np\n",
    "import torch\n",
    "import torch.nn as nn\n",
    "import torch.optim as optim\n",
    "import torch.optim.lr_scheduler as lr_scheduler\n",
    "import matplotlib.pyplot as plt\n",
    "import math\n",
    "from sklearn.metrics import roc_curve, auc, roc_auc_score, confusion_matrix, accuracy_score, f1_score, matthews_corrcoef\n",
    "from sklearn.model_selection import KFold, train_test_split\n",
    "from torch.utils.data import TensorDataset, DataLoader, random_split, ConcatDataset, Subset"
   ]
  },
  {
   "cell_type": "code",
   "execution_count": 156,
   "id": "1fca3e1a",
   "metadata": {},
   "outputs": [],
   "source": [
    "loaded_datasets_info = torch.load('/Users/jiaming/Desktop/Lab2/datas/saved_datasets_scaled.pth')\n",
    "loaded_train_dataset = loaded_datasets_info['train_dataset']\n",
    "loaded_val_dataset = loaded_datasets_info['val_dataset']\n",
    "loaded_test_dataset = loaded_datasets_info['test_dataset']"
   ]
  },
  {
   "cell_type": "code",
   "execution_count": 157,
   "id": "34e92099",
   "metadata": {},
   "outputs": [],
   "source": [
    "batch_size = 128 \n",
    "loaded_train_loader = DataLoader(loaded_train_dataset, batch_size = batch_size) \n",
    "loaded_val_loader = DataLoader(loaded_val_dataset, batch_size = batch_size) \n",
    "loaded_test_loader = DataLoader(loaded_test_dataset, batch_size = batch_size, shuffle=False) "
   ]
  },
  {
   "cell_type": "code",
   "execution_count": 158,
   "id": "e5a3c1a3",
   "metadata": {},
   "outputs": [],
   "source": [
    "def metrics_output(preds,labels):\n",
    "    true_labels = np.array(labels)\n",
    "    predicted_probs = np.array(preds)\n",
    "    binary_predictions = (predicted_probs >= 0.5).astype(int)\n",
    "    auc = roc_auc_score(true_labels, predicted_probs)\n",
    "    conf_matrix = confusion_matrix(true_labels, binary_predictions)\n",
    "    tn, fp, fn, tp = conf_matrix.ravel()\n",
    "    sensitivity = tp / (tp + fn)\n",
    "    specificity = tn / (tn + fp)\n",
    "    accuracy = accuracy_score(true_labels, binary_predictions)\n",
    "    f1 = f1_score(true_labels, binary_predictions)\n",
    "    mcc = matthews_corrcoef(true_labels, binary_predictions)  \n",
    "    return (auc, sensitivity, specificity, accuracy, f1, mcc)"
   ]
  },
  {
   "cell_type": "code",
   "execution_count": 159,
   "id": "70b8a4de",
   "metadata": {},
   "outputs": [],
   "source": [
    "learning_rate = 0.001\n",
    "num_epochs = 5\n",
    "# num_classes = 2"
   ]
  },
  {
   "cell_type": "code",
   "execution_count": 160,
   "id": "74f3a070",
   "metadata": {},
   "outputs": [],
   "source": [
    "class BinaryLSTM(nn.Module):\n",
    "    def __init__(self, input_size=24, hidden_size=256, num_layers=2):\n",
    "        super(BinaryLSTM, self).__init__()\n",
    "        self.lstm = nn.LSTM(input_size, hidden_size, num_layers, batch_first=True)\n",
    "        self.linear = nn.Linear(hidden_size, 1)\n",
    "        self.sigmoid = nn.Sigmoid()\n",
    "\n",
    "    def forward(self, x):\n",
    "        lstm_out, _ = self.lstm(x)\n",
    "        output = self.linear(lstm_out[:, -1, :])\n",
    "        output = self.sigmoid(output)\n",
    "        return output\n",
    "\n",
    "model = BinaryLSTM()\n",
    "criterion = nn.BCELoss()  \n",
    "optimizer = optim.Adam(model.parameters(), lr=learning_rate)"
   ]
  },
  {
   "cell_type": "code",
   "execution_count": 161,
   "id": "4a3aee83",
   "metadata": {},
   "outputs": [],
   "source": [
    "kf = KFold(n_splits=5, shuffle=True, random_state=42)\n",
    "train_dataset = ConcatDataset([loaded_train_dataset, loaded_val_dataset])\n",
    "train_loader = DataLoader(train_dataset, batch_size=batch_size)\n",
    "\n",
    "for fold_idx, (train_index, val_index) in enumerate(kf.split(train_loader.dataset)):\n",
    "    predicted_probabilities = []\n",
    "    true_labels = []\n",
    "    train_loader_fold = DataLoader(Subset(train_loader.dataset, train_index), batch_size=batch_size)\n",
    "    val_loader_fold = DataLoader(Subset(train_loader.dataset, val_index), batch_size=batch_size)\n",
    "    \n",
    "    for epoch in range(num_epochs):    \n",
    "        for batch_idx, (features, targets) in enumerate(train_loader_fold):     \n",
    "            optimizer.zero_grad()\n",
    "            outputs = model(features)\n",
    "            loss = criterion(outputs, targets) \n",
    "            loss.backward()\n",
    "            optimizer.step()\n",
    "    \n",
    "    with torch.set_grad_enabled(False):\n",
    "        for batch_idx, (features, targets) in enumerate(val_loader_fold):\n",
    "            logits = model(features.float())\n",
    "            probabilities = logits\n",
    "            predicted_probabilities.extend(probabilities.tolist())\n",
    "            true_labels.extend(targets.tolist())\n",
    "    #每一个都储存（没有必要，只要最后一次的就好）\n",
    "    #torch.save(model.state_dict(), f'/Users/jiaming/Desktop/Lab2/datas/ROC/models/LSTM/lstm_{fold_idx}.pth')\n",
    "    #np.save(f'/Users/jiaming/Desktop/Lab2/datas/ROC/models/LSTM/lstm_y_val_pred_{fold_idx}.npy', predicted_probabilities)\n",
    "    #np.save(f'/Users/jiaming/Desktop/Lab2/datas/ROC/models/LSTM/lstm_y_val_{fold_idx}.npy', true_labels)"
   ]
  },
  {
   "cell_type": "code",
   "execution_count": 162,
   "id": "f9faf6ef",
   "metadata": {},
   "outputs": [],
   "source": [
    "# 只储存了最后一次\n",
    "torch.save(model.state_dict(), '/Users/jiaming/Desktop/Lab2/datas/ROC/models/LSTM/LSTM.pth')"
   ]
  },
  {
   "cell_type": "code",
   "execution_count": 163,
   "id": "ec35722b",
   "metadata": {},
   "outputs": [
    {
     "name": "stdout",
     "output_type": "stream",
     "text": [
      "0.7111678004535148 0.7244897959183674 0.5925925925925926 0.6553398058252428 0.6666666666666666 0.318880101967414\n"
     ]
    }
   ],
   "source": [
    "roc_auc, metrics_sn, metrics_sp, metrics_ACC, metrics_F1, metrics_MCC = metrics_output(predicted_probabilities,true_labels)\n",
    "print(roc_auc, metrics_sn, metrics_sp, metrics_ACC, metrics_F1, metrics_MCC)"
   ]
  },
  {
   "cell_type": "code",
   "execution_count": 164,
   "id": "1a3c06a6",
   "metadata": {},
   "outputs": [],
   "source": [
    "# 只储存了最后一次\n",
    "np.save('/Users/jiaming/Desktop/Lab2/datas/ROC/val/LSTM/lstm_y_val_pred.npy', predicted_probabilities)\n",
    "np.save('/Users/jiaming/Desktop/Lab2/datas/ROC/val/LSTM/lstm_y_val.npy', true_labels)"
   ]
  },
  {
   "cell_type": "code",
   "execution_count": 165,
   "id": "036b5d73",
   "metadata": {},
   "outputs": [],
   "source": [
    "predicted_probabilities = []  \n",
    "true_labels = []  \n",
    "with torch.set_grad_enabled(False): \n",
    "    for batch_idx, (features, targets) in enumerate(loaded_test_loader):\n",
    "        logits = model(features.float())\n",
    "        probabilities = logits\n",
    "        predicted_probabilities.extend(probabilities.tolist()) \n",
    "        true_labels.extend(targets.tolist())"
   ]
  },
  {
   "cell_type": "code",
   "execution_count": 166,
   "id": "bba40ae8",
   "metadata": {},
   "outputs": [
    {
     "name": "stdout",
     "output_type": "stream",
     "text": [
      "0.7086940836940837 0.7424242424242424 0.6031746031746031 0.6744186046511628 0.7000000000000001 0.34931506906453796\n"
     ]
    }
   ],
   "source": [
    "roc_auc, metrics_sn, metrics_sp, metrics_ACC, metrics_F1, metrics_MCC = metrics_output(predicted_probabilities,true_labels)\n",
    "print(roc_auc, metrics_sn, metrics_sp, metrics_ACC, metrics_F1, metrics_MCC)"
   ]
  },
  {
   "cell_type": "code",
   "execution_count": 167,
   "id": "b9389fac",
   "metadata": {},
   "outputs": [],
   "source": [
    "np.save('/Users/jiaming/Desktop/Lab2/datas/ROC/test/LSTM/lstm_y_test_pred.npy', predicted_probabilities)\n",
    "np.save('/Users/jiaming/Desktop/Lab2/datas/ROC/test/LSTM/lstm_y_test.npy', true_labels)"
   ]
  },
  {
   "cell_type": "code",
   "execution_count": null,
   "id": "c1c9a610",
   "metadata": {},
   "outputs": [],
   "source": []
  }
 ],
 "metadata": {
  "kernelspec": {
   "display_name": "Python 3 (ipykernel)",
   "language": "python",
   "name": "python3"
  },
  "language_info": {
   "codemirror_mode": {
    "name": "ipython",
    "version": 3
   },
   "file_extension": ".py",
   "mimetype": "text/x-python",
   "name": "python",
   "nbconvert_exporter": "python",
   "pygments_lexer": "ipython3",
   "version": "3.8.18"
  }
 },
 "nbformat": 4,
 "nbformat_minor": 5
}
