{
 "cells": [
  {
   "cell_type": "code",
   "execution_count": 14,
   "id": "b9227d97",
   "metadata": {},
   "outputs": [],
   "source": [
    "import pandas as pd\n",
    "import numpy as np\n",
    "import torch\n",
    "import torch.nn as nn\n",
    "import torch.optim as optim\n",
    "import torch.optim.lr_scheduler as lr_scheduler\n",
    "import matplotlib.pyplot as plt\n",
    "import math\n",
    "from sklearn.metrics import roc_curve, auc, roc_auc_score, confusion_matrix, accuracy_score, f1_score, matthews_corrcoef\n",
    "from sklearn.model_selection import KFold, train_test_split\n",
    "from torch.utils.data import TensorDataset, DataLoader, random_split, ConcatDataset, Subset"
   ]
  },
  {
   "cell_type": "code",
   "execution_count": 15,
   "id": "1b5a8933",
   "metadata": {},
   "outputs": [],
   "source": [
    "loaded_datasets_info = torch.load('/Users/jiaming/Desktop/Lab2/datas/saved_datasets_scaled.pth')\n",
    "loaded_train_dataset = loaded_datasets_info['train_dataset']\n",
    "loaded_val_dataset = loaded_datasets_info['val_dataset']\n",
    "loaded_test_dataset = loaded_datasets_info['test_dataset']"
   ]
  },
  {
   "cell_type": "code",
   "execution_count": 16,
   "id": "7a791e75",
   "metadata": {},
   "outputs": [],
   "source": [
    "batch_size = 128 \n",
    "loaded_train_loader = DataLoader(loaded_train_dataset, batch_size = batch_size) \n",
    "loaded_val_loader = DataLoader(loaded_val_dataset, batch_size = batch_size) \n",
    "loaded_test_loader = DataLoader(loaded_test_dataset, batch_size = batch_size, shuffle=False) "
   ]
  },
  {
   "cell_type": "code",
   "execution_count": 17,
   "id": "3125dd8f",
   "metadata": {},
   "outputs": [],
   "source": [
    "def metrics_output(preds,labels):\n",
    "    true_labels = np.array(labels)\n",
    "    predicted_probs = np.array(preds)\n",
    "    binary_predictions = (predicted_probs >= 0.5).astype(int)\n",
    "    auc = roc_auc_score(true_labels, predicted_probs)\n",
    "    conf_matrix = confusion_matrix(true_labels, binary_predictions)\n",
    "    tn, fp, fn, tp = conf_matrix.ravel()\n",
    "    sensitivity = tp / (tp + fn)\n",
    "    specificity = tn / (tn + fp)\n",
    "    accuracy = accuracy_score(true_labels, binary_predictions)\n",
    "    f1 = f1_score(true_labels, binary_predictions)\n",
    "    mcc = matthews_corrcoef(true_labels, binary_predictions)  \n",
    "    return (auc, sensitivity, specificity, accuracy, f1, mcc)"
   ]
  },
  {
   "cell_type": "code",
   "execution_count": 27,
   "id": "064c7fd3",
   "metadata": {},
   "outputs": [],
   "source": [
    "learning_rate = 0.001\n",
    "num_epochs = 100\n",
    "# num_classes = 2"
   ]
  },
  {
   "cell_type": "code",
   "execution_count": 28,
   "id": "c12224f4",
   "metadata": {},
   "outputs": [],
   "source": [
    "size = 8\n",
    "class Net_conv(torch.nn.Module):\n",
    "    def __init__(self, input_length):\n",
    "        super(Net_conv, self).__init__()\n",
    "        self.block_1 = torch.nn.Sequential(\n",
    "            torch.nn.Conv1d(in_channels=1,\n",
    "                            out_channels=size,\n",
    "                            kernel_size=1,\n",
    "                            stride=1,\n",
    "                            padding=0),\n",
    "            torch.nn.BatchNorm1d(size),\n",
    "            torch.nn.ReLU(inplace=True),\n",
    "            torch.nn.Conv1d(in_channels=size,\n",
    "                                out_channels=2*size,\n",
    "                                kernel_size=3,\n",
    "                                stride=1,\n",
    "                                padding=1),\n",
    "            torch.nn.BatchNorm1d(2*size)\n",
    "        )\n",
    "        self.block_2 = torch.nn.Sequential(\n",
    "            torch.nn.Conv1d(in_channels=2*size,\n",
    "                            out_channels=4*size,\n",
    "                            kernel_size=1,\n",
    "                            stride=1,\n",
    "                            padding=0),\n",
    "            torch.nn.BatchNorm1d(4*size),\n",
    "            torch.nn.ReLU(inplace=True),\n",
    "            torch.nn.Conv1d(in_channels=4*size,\n",
    "                                out_channels=2*size,\n",
    "                                kernel_size=3, \n",
    "                                stride=1,\n",
    "                                padding=1),\n",
    "            torch.nn.BatchNorm1d(2*size)\n",
    "        )\n",
    "        iutput_size_block_1 = (input_length - 1 + 2 * 0) // 1 + 1  \n",
    "        output_size_block_2 = (iutput_size_block_1 - 1 + 2 * 0) // 1 + 1  \n",
    "        num_channels_last_layer = 2*size \n",
    "        linear_input_size = num_channels_last_layer * output_size_block_2    \n",
    "        self.linear_1 = torch.nn.Linear(linear_input_size, 1)\n",
    "        self.sigmoid = nn.Sigmoid()\n",
    "    \n",
    "    def forward(self, x):\n",
    "        shortcut = x.float()\n",
    "        x = self.block_1(x)\n",
    "        x = torch.nn.functional.relu(x + shortcut)    \n",
    "        shortcut = x\n",
    "        x = self.block_2(x)\n",
    "        x = torch.nn.functional.relu(x + shortcut)     \n",
    "        x = x.view(x.size(0), -1)\n",
    "        x =  self.linear_1(x)\n",
    "        x = self.sigmoid(x)\n",
    "        return x\n",
    "\n",
    "model = Net_conv(input_length = 24)\n",
    "optimizer = torch.optim.Adam(model.parameters(), lr=learning_rate)  \n",
    "criterion = nn.BCELoss()  "
   ]
  },
  {
   "cell_type": "code",
   "execution_count": 29,
   "id": "101918c1",
   "metadata": {},
   "outputs": [],
   "source": [
    "kf = KFold(n_splits=5, shuffle=True, random_state=42)\n",
    "train_dataset = ConcatDataset([loaded_train_dataset, loaded_val_dataset])\n",
    "train_loader = DataLoader(train_dataset, batch_size=batch_size)\n",
    "\n",
    "for fold_idx, (train_index, val_index) in enumerate(kf.split(train_loader.dataset)):\n",
    "    predicted_probabilities = []\n",
    "    true_labels = []\n",
    "    train_loader_fold = DataLoader(Subset(train_loader.dataset, train_index), batch_size=batch_size)\n",
    "    val_loader_fold = DataLoader(Subset(train_loader.dataset, val_index), batch_size=batch_size)\n",
    "    model = Net_conv(input_length = 24)\n",
    "    \n",
    "    for epoch in range(num_epochs):\n",
    "        model = model.train()\n",
    "        for batch_idx, (features, targets) in enumerate(train_loader_fold):     \n",
    "            optimizer.zero_grad()\n",
    "            outputs = model(features)\n",
    "            loss = criterion(outputs, targets) \n",
    "            loss.backward()\n",
    "            optimizer.step()\n",
    "    \n",
    "    with torch.set_grad_enabled(False):\n",
    "        for batch_idx, (features, targets) in enumerate(val_loader_fold):\n",
    "            logits = model(features.float())\n",
    "            probabilities = logits\n",
    "            predicted_probabilities.extend(probabilities.tolist())\n",
    "            true_labels.extend(targets.tolist())\n",
    "    #每一个都储存（没有必要，只要最后一次的就好）\n",
    "    #torch.save(model.state_dict(), f'/Users/jiaming/Desktop/Lab2/datas/ROC/models/ResNet/ResNet_{fold_idx}.pth')\n",
    "    #np.save(f'/Users/jiaming/Desktop/Lab2/datas/ROC/models/ResNet/resnet_y_val_pred_{fold_idx}.npy', predicted_probabilities)\n",
    "    #np.save(f'/Users/jiaming/Desktop/Lab2/datas/ROC/models/ResNet/resnet_y_val_{fold_idx}.npy', true_labels)\n"
   ]
  },
  {
   "cell_type": "code",
   "execution_count": 30,
   "id": "e179eca3",
   "metadata": {},
   "outputs": [],
   "source": [
    "# 只储存了最后一次\n",
    "torch.save(model.state_dict(), '/Users/jiaming/Desktop/Lab2/datas/ROC/models/ResNet/ResNet.pth')"
   ]
  },
  {
   "cell_type": "code",
   "execution_count": 31,
   "id": "a6f1c456",
   "metadata": {
    "scrolled": true
   },
   "outputs": [
    {
     "name": "stdout",
     "output_type": "stream",
     "text": [
      "0.5654761904761905 0.5612244897959183 0.5648148148148148 0.5631067961165048 0.5499999999999999 0.12589664547660617\n"
     ]
    }
   ],
   "source": [
    "roc_auc, metrics_sn, metrics_sp, metrics_ACC, metrics_F1, metrics_MCC = metrics_output(predicted_probabilities,true_labels)\n",
    "print(roc_auc, metrics_sn, metrics_sp, metrics_ACC, metrics_F1, metrics_MCC) "
   ]
  },
  {
   "cell_type": "code",
   "execution_count": 32,
   "id": "772cc5b8",
   "metadata": {},
   "outputs": [],
   "source": [
    "# 只储存了最后一次\n",
    "np.save('/Users/jiaming/Desktop/Lab2/datas/ROC/val/ResNet/resnet_y_val_pred.npy', predicted_probabilities)\n",
    "np.save('/Users/jiaming/Desktop/Lab2/datas/ROC/val/ResNet/resnet_y_val.npy', true_labels)"
   ]
  },
  {
   "cell_type": "code",
   "execution_count": 33,
   "id": "998da6d6",
   "metadata": {},
   "outputs": [],
   "source": [
    "predicted_probabilities = []  \n",
    "true_labels = []  \n",
    "with torch.set_grad_enabled(False): \n",
    "    for batch_idx, (features, targets) in enumerate(loaded_test_loader):\n",
    "        logits = model(features.float())\n",
    "        predicted_probabilities.extend(logits.tolist()) \n",
    "        true_labels.extend(targets.tolist())"
   ]
  },
  {
   "cell_type": "code",
   "execution_count": 34,
   "id": "c600952f",
   "metadata": {},
   "outputs": [
    {
     "name": "stdout",
     "output_type": "stream",
     "text": [
      "0.5592231842231843 0.45454545454545453 0.6190476190476191 0.5348837209302325 0.5 0.07456785876210716\n"
     ]
    }
   ],
   "source": [
    "roc_auc, metrics_sn, metrics_sp, metrics_ACC, metrics_F1, metrics_MCC = metrics_output(predicted_probabilities,true_labels)\n",
    "print(roc_auc, metrics_sn, metrics_sp, metrics_ACC, metrics_F1, metrics_MCC) "
   ]
  },
  {
   "cell_type": "code",
   "execution_count": 35,
   "id": "9f7b71f4",
   "metadata": {},
   "outputs": [],
   "source": [
    "np.save('/Users/jiaming/Desktop/Lab2/datas/ROC/test/ResNet/resnet_y_test_pred.npy', predicted_probabilities)\n",
    "np.save('/Users/jiaming/Desktop/Lab2/datas/ROC/test/ResNet/resnet_y_test.npy', true_labels)"
   ]
  },
  {
   "cell_type": "code",
   "execution_count": null,
   "id": "5b70ec07",
   "metadata": {},
   "outputs": [],
   "source": []
  },
  {
   "cell_type": "code",
   "execution_count": null,
   "id": "c4454264",
   "metadata": {},
   "outputs": [],
   "source": []
  }
 ],
 "metadata": {
  "kernelspec": {
   "display_name": "Python 3 (ipykernel)",
   "language": "python",
   "name": "python3"
  },
  "language_info": {
   "codemirror_mode": {
    "name": "ipython",
    "version": 3
   },
   "file_extension": ".py",
   "mimetype": "text/x-python",
   "name": "python",
   "nbconvert_exporter": "python",
   "pygments_lexer": "ipython3",
   "version": "3.8.18"
  }
 },
 "nbformat": 4,
 "nbformat_minor": 5
}
